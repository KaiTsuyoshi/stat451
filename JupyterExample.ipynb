{
 "cells": [
  {
   "cell_type": "markdown",
   "metadata": {},
   "source": [
    "## This is a sample Jupyter Notebook."
   ]
  },
  {
   "cell_type": "code",
   "execution_count": null,
   "metadata": {},
   "outputs": [],
   "source": [
    "import matplotlib.pyplot as plt # import a Python graphics package"
   ]
  },
  {
   "cell_type": "markdown",
   "metadata": {},
   "source": [
    "Here we find $$\\text{Return on Assets} = \\frac{\\text{Net Income}}{\\text{Total Assets}}$$"
   ]
  },
  {
   "cell_type": "code",
   "execution_count": null,
   "metadata": {},
   "outputs": [],
   "source": [
    "# some Python code that produces textual output\n",
    "net_income = 1000\n",
    "total_assets = 20000\n",
    "return_on_assets = net_income / total_assets # arithmetic: +, -, *, /, ()\n",
    "print(return_on_assets)"
   ]
  },
  {
   "cell_type": "markdown",
   "metadata": {},
   "source": [
    "Here we make a scatterplot of price vs. year."
   ]
  },
  {
   "cell_type": "code",
   "execution_count": null,
   "metadata": {},
   "outputs": [],
   "source": [
    "# some Python code that produces graphical output\n",
    "year  = [2000, 2001, 2002, 2003, 2004, 2005, 2006, 2007, 2008, 2009]\n",
    "price = [ 1.7,  1.6,  3.6,  3.8,  4.6,  6.3,  5.4,  5.5,  7.6,  8.6]\n",
    "plt.scatter(x=year, y=price)\n",
    "plt.title(\"Price vs. year\")\n",
    "plt.xlabel(\"Year\")\n",
    "plt.ylabel(\"Price (dollars)\")\n",
    "plt.xlim(left=1999, right=2010)\n",
    "plt.ylim(bottom=0, top=10)"
   ]
  },
  {
   "cell_type": "markdown",
   "metadata": {},
   "source": [
    "From the graph, we can see that price increased through the 2000s."
   ]
  }
 ],
 "metadata": {
  "kernelspec": {
   "display_name": "Python 3",
   "language": "python",
   "name": "python3"
  },
  "language_info": {
   "codemirror_mode": {
    "name": "ipython",
    "version": 3
   },
   "file_extension": ".py",
   "mimetype": "text/x-python",
   "name": "python",
   "nbconvert_exporter": "python",
   "pygments_lexer": "ipython3",
   "version": "3.8.3"
  }
 },
 "nbformat": 4,
 "nbformat_minor": 4
}
