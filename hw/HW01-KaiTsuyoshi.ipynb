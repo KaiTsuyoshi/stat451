{
 "cells": [
  {
   "cell_type": "markdown",
   "id": "25842d74",
   "metadata": {},
   "source": [
    "# HW1: Practice with Python, hard-margin SVM, and linear regression"
   ]
  },
  {
   "cell_type": "markdown",
   "id": "6261349e",
   "metadata": {},
   "source": [
    "Kai Tsuyoshi 9079933256"
   ]
  },
  {
   "cell_type": "markdown",
   "id": "f7e457d2",
   "metadata": {},
   "source": [
    "Hello Students:\n",
    "\n",
    "- Start by downloading HW1.ipynb from this folder. Then develop it into your solution.\n",
    "- Write code where you see \"... your code here ...\" below.\n",
    "  (You are welcome to use more than one cell.)\n",
    "- I've included the output from my solution in HW1.html so you can check your\n",
    "  work. Your output should match or be close to mine. Use 3 significant\n",
    "  figures for floats. e.g. We can print 3 figures for 𝜋/1000 as\n",
    "  print(f'{np.pi/1000:.3}'). The pattern is print(f'{x:.precision}'),\n",
    "  where x is the value to print and precision is the number of figures.\n",
    "- If you have questions, please ask them in class, office hours, or piazza. Our TA\n",
    "  and I are very happy to help with the programming (provided you start early\n",
    "  enough, and provided we are not helping so much that we undermine your learning).\n",
    "- Please clean up your code:\n",
    "  - Comment out unnecessary code that is useful for orienting you, like printing the data set.\n",
    "  - Label your output, like writing 'weight=20.1' or 'The weight is 20.1' rather than just '20.1'.\n",
    "  - Simplify your code if you can.\n",
    "- When you are done, run these Notebook commands:\n",
    "  - Shift-L (once, so that line numbers are visible)\n",
    "  - Kernel > Restart and Run All (run all cells from scratch)\n",
    "  - Esc S (save)\n",
    "  - File > Download as > HTML\n",
    "- Turn in:\n",
    "  - HW01.ipynb to Canvas's HW01.ipynb assignment\n",
    "  - HW01.html to Canvas's HW01.html assignment\n",
    "  - As a check, download your files from Canvas to a new 'junk' folder. Try 'Kernel > Restart\n",
    "  and Run All' on the '.ipynb' file to make sure it works. Glance through the '.html' file.\n",
    "- Turn in partial solutions to Canvas before the deadline. e.g. Turn in part 1,\n",
    "  then parts 1 and 2a, then your whole solution. That way we can award partial credit\n",
    "  even if you miss the deadline. We will grade your last submission before the deadline."
   ]
  },
  {
   "cell_type": "code",
   "execution_count": 1,
   "id": "f1b234d4",
   "metadata": {},
   "outputs": [],
   "source": [
    "import numpy as np\n",
    "import pandas as pd\n",
    "import matplotlib.pyplot as plt\n",
    "from sklearn import svm, linear_model"
   ]
  },
  {
   "cell_type": "markdown",
   "id": "d991636c",
   "metadata": {},
   "source": [
    "# 1. Use a hard-margin SVM\n",
    " to classify cars as having automatic or manual transmissions.\n",
    "- Read [http://www.stat.wisc.edu/~jgillett/451/01/mtcars30.csv](http://www.stat.wisc.edu/~jgillett/451/01/mtcars30.csv) into a DataFrame. (This is the mtcars data frame from R with two of its rows removed to get linearly separable data.)\n",
    "- Make a 30x2 numpy array X from the mpg (miles per gallon) and wt (weight in 1000s of pounds) columns. Make an array y from the am column (where 0=automatic\n",
    "  or 1=manual transmission).\n",
    "- Train an SVM using kernel='linear' and C=1000. Print its coefficients and intercept.\n",
    "- Report the training accuracy. (It's given by clf.score(X, y).)\n",
    "- Predict the transmission for a car weighing 4000 pounds (wt=4) that gets 20 mpg.\n",
    "- Use five plt.plot() calls to make a figure with wt on its x-axis and mpg on its y-axis including:\n",
    "  - the automatic transmission cars in red\n",
    "  - the manual transmission cars in blue\n",
    "  - the decision boundary (the center line of the road)\n",
    "  - the lower margin boundary (the left side of the road)\n",
    "  - the upper margin boundary (the right side of the road)\n",
    "  - a reasonable title, axis labels, and legend"
   ]
  },
  {
   "cell_type": "code",
   "execution_count": 2,
   "id": "f4e137dd",
   "metadata": {},
   "outputs": [
    {
     "name": "stdout",
     "output_type": "stream",
     "text": [
      "clf.coef_=[[-8.24431115 -0.30922192]]\n",
      "clf.intercept_=[32.01974189]\n",
      "clf.score_=1.0\n",
      "clf.predict = [0]\n"
     ]
    },
    {
     "data": {
      "image/png": "[encoded data removed]",
      "text/plain": [
       "<Figure size 432x288 with 1 Axes>"
      ]
     },
     "metadata": {
      "needs_background": "light"
     },
     "output_type": "display_data"
    }
   ],
   "source": [
    "df = pd.read_csv('mtcars30.csv')\n",
    "X = np.array(df.loc[:,('wt','mpg')])\n",
    "y = np.array(df.loc[:,'am'])\n",
    "\n",
    "clf = svm.SVC(kernel = \"linear\", C = 1000)\n",
    "clf.fit(X, y)\n",
    "print(f'clf.coef_={clf.coef_}')\n",
    "print(f'clf.intercept_={clf.intercept_}')\n",
    "print(f'clf.score_={clf.score(X, y)}')\n",
    "print(f'clf.predict = {clf.predict(np.array([[4, 20]]))}')\n",
    "\n",
    "plt.plot(X[y == 0, 0], X[y == 0, 1], '.', color='red', label='automatic')\n",
    "plt.plot(X[y == 1, 0], X[y == 1, 1], '.', color='blue', label='manual')\n",
    "x1 = X[:, 0]\n",
    "x2 = -(clf.coef_[0][0] * x1 + clf.intercept_) / clf.coef_[0][1]\n",
    "plt.plot(x1, x2, label = r'decision boundary $\\mathbf{wx} + b = 0$')\n",
    "plt.plot(x1, x2 + 1 / clf.coef_[0][1], linestyle=':', color='orange', label=r'+1 support $\\mathbf{wx} + b = 1$')\n",
    "plt.plot(x1, x2 - 1 / clf.coef_[0][1], linestyle=':', color='green', label=r'+1 support $\\mathbf{wx} + b = -1$')\n",
    "plt.legend()\n",
    "plt.xlim(0, 6)\n",
    "plt.ylim(0, 35)\n",
    "plt.ylabel(\"mpg\")\n",
    "plt.xlabel(\"weight in 1000s of pounds\")\n",
    "plt.show(block=False)"
   ]
  },
  {
   "cell_type": "markdown",
   "id": "6bffdb35",
   "metadata": {},
   "source": [
    "# 2. Make three linear regression models.\n"
   ]
  },
  {
   "cell_type": "markdown",
   "id": "a0ab39c6",
   "metadata": {},
   "source": [
    "## 2a: Make a simple regression model by hand.\n",
    "Use the matrix formula $w = (X^T X)^{-1} X^T y$ we developed in class to fit these three points:\n",
    "(0, 5), (2, 1), (4, 3). (Use linear_model.linearRegression(), if you wish, to check your work.)"
   ]
  },
  {
   "cell_type": "markdown",
   "id": "d985a949",
   "metadata": {},
   "source": [
    "By hand, intercept is 4, slope is -0.5"
   ]
  },
  {
   "cell_type": "code",
   "execution_count": 3,
   "id": "84f62e3b",
   "metadata": {},
   "outputs": [
    {
     "name": "stdout",
     "output_type": "stream",
     "text": [
      "intercept=3.9999999999999996, slope=-0.4999999999999998\n"
     ]
    }
   ],
   "source": [
    "#double check with code\n",
    "X = np.array([[0], [2], [4]])\n",
    "y = np.array([5, 1, 3])\n",
    "model = linear_model.LinearRegression()\n",
    "model.fit(X, y)\n",
    "b = model.intercept_\n",
    "w = model.coef_[0]\n",
    "print(f'intercept={b}, slope={w}')"
   ]
  },
  {
   "cell_type": "markdown",
   "id": "8df4591c",
   "metadata": {},
   "source": [
    "## 2b: Make a simple linear regression model from real data.\n",
    "Estimate the average daily trading volume of a Dow Jones Industrial Average stock from its market capitalization. That is, use $y = $ AvgVol vs. $x =$ MarketCap.\n",
    "- Read [http://www.stat.wisc.edu/~jgillett/451/data/DJIA.csv](http://www.stat.wisc.edu/~jgillett/451/data/DJIA.csv) into a DataFrame.\n",
    "- Find the model. Print its equation.\n",
    "- Print its $R^2$ value (the proportion of variability in $y$ accounted for by $x$ via the linear model, given by model.score(X, y)).\n",
    "- Use the model to predict the volume for a company with market capitalization of 0.25e12 (a quarter-trillion dollars); add this as a red point on your plot.\n",
    "- Say what happens to Volume as Market Capitalization increases. (Use a Markdown cell.)"
   ]
  },
  {
   "cell_type": "code",
   "execution_count": 4,
   "id": "bbcae099",
   "metadata": {},
   "outputs": [
    {
     "name": "stdout",
     "output_type": "stream",
     "text": [
      "Model is Volume = 2.68e-05 * (Market Capitalization) + 3.41e+06\n",
      "R^2 is 0.705\n",
      "We predict a Volume of [10098501.09134216] for Market Capitalization 2.5e+11 (see red dot)\n"
     ]
    },
    {
     "data": {
      "image/png": "[encoded data removed]",
      "text/plain": [
       "<Figure size 432x288 with 1 Axes>"
      ]
     },
     "metadata": {
      "needs_background": "light"
     },
     "output_type": "display_data"
    }
   ],
   "source": [
    "df2 = pd.read_csv('DJIA.csv')\n",
    "x = df2['MarketCap'].to_numpy()\n",
    "X = x.copy()\n",
    "nrows = X.shape[0]\n",
    "X.shape = (nrows, 1) \n",
    "y = df2['AvgVol'].to_numpy()\n",
    "model = linear_model.LinearRegression()\n",
    "model.fit(X, y)\n",
    "b = model.intercept_\n",
    "w = model.coef_[0]\n",
    "print(f'Model is Volume = {w:.3} * (Market Capitalization) + {b:.3}')\n",
    "print(f'R^2 is {model.score(X, y):.3}')\n",
    "\n",
    "y_hat = model.predict(X) \n",
    "plt.plot(x, y, '.', color='black', label='data')\n",
    "plt.title('DJIA')\n",
    "plt.xlabel('Market Capitalization')\n",
    "plt.ylabel('Volume')\n",
    "plt.plot(x, y_hat, color='black', label=f'$\\\\hat{{y}}=${round(b, 2)} + ({round(w, 2)})$x$')\n",
    "plt.plot(0.25e12, model.predict(np.array([[0.25e12]])), '.', color='red', label='fitted values')\n",
    "prediction = model.predict(np.array([[0.25e12]]))\n",
    "print(f'We predict a Volume of {prediction} for Market Capitalization 2.5e+11 (see red dot)')"
   ]
  },
  {
   "cell_type": "markdown",
   "id": "d6459c2b",
   "metadata": {},
   "source": [
    "We see that As market Capitalization increases, Volume increases"
   ]
  },
  {
   "cell_type": "markdown",
   "id": "983ff726",
   "metadata": {},
   "source": [
    "## 2c Make a multiple regression model.\n",
    "Estimate the same volume from both market capitalization and price. That is, use $y =$ AvgVol vs. $x_1 =$ MarketCap and $x_2 =$ Price.\n",
    "- Find the model.\n",
    "- Print its equation.\n",
    "- Print its $R^2$ value.\n",
    "- Say what happens to Volume as Market Capitalization increases and what happens to Volume as Price increases. (Use a Markdown cell.)"
   ]
  },
  {
   "cell_type": "code",
   "execution_count": 5,
   "id": "b7c73d9a",
   "metadata": {},
   "outputs": [
    {
     "name": "stdout",
     "output_type": "stream",
     "text": [
      "Model is Volume = 2.89e-05 * (Market Capitalization) + -6.69e+04 * Price + 1.44e+07\n",
      "R^2 is 0.823\n"
     ]
    }
   ],
   "source": [
    "X = df2[['MarketCap', 'Price']].to_numpy()\n",
    "y = df2['AvgVol'].to_numpy()\n",
    "model.fit(X, y)\n",
    "print(f'Model is Volume = {model.coef_[0]:.3} * (Market Capitalization) + {model.coef_[1]:.3} * Price + {model.intercept_:.3}') \n",
    "y_hat = model.predict(X)\n",
    "print(f'R^2 is {model.score(X, y):.3}')"
   ]
  },
  {
   "cell_type": "markdown",
   "id": "6e073612",
   "metadata": {},
   "source": [
    "Here, Volume increases when Market Capitalization increases and Price decreases. "
   ]
  }
 ],
 "metadata": {
  "celltoolbar": "Tags",
  "kernelspec": {
   "display_name": "Python 3 (ipykernel)",
   "language": "python",
   "name": "python3"
  },
  "language_info": {
   "codemirror_mode": {
    "name": "ipython",
    "version": 3
   },
   "file_extension": ".py",
   "mimetype": "text/x-python",
   "name": "python",
   "nbconvert_exporter": "python",
   "pygments_lexer": "ipython3",
   "version": "3.9.12"
  }
 },
 "nbformat": 4,
 "nbformat_minor": 5
}
