{
 "cells": [
  {
   "cell_type": "markdown",
   "id": "8163daf4",
   "metadata": {},
   "source": [
    "# HW02: Practice with logistic regression and decision tree\n",
    "\n",
    "[Please put your name and NetID here.]"
   ]
  },
  {
   "cell_type": "markdown",
   "id": "4fdedd9b",
   "metadata": {},
   "source": [
    "## Hello Students:\n",
    "\n",
    "- Start by downloading HW02.ipynb from this folder. Then develop it into your solution.\n",
    "- Write code where you see \"... your code here ...\" below.\n",
    "  (You are welcome to use more than one cell.)\n",
    "- If you have questions, please ask them in class, office hours, or piazza. Our TA\n",
    "  and I are very happy to help with the programming (provided you start early\n",
    "  enough, and provided we are not helping so much that we undermine your learning).\n",
    "- When you are done, run these Notebook commands:\n",
    "  - Shift-L (once, so that line numbers are visible)\n",
    "  - Kernel > Restart and Run All (run all cells from scratch)\n",
    "  - Esc S (save)\n",
    "  - File > Download as > HTML\n",
    "- Turn in:\n",
    "  - HW02.ipynb to Canvas's HW02.ipynb assignment\n",
    "  - HW02.html to Canvas's HW02.html assignment\n",
    "  - As a check, download your files from Canvas to a new 'junk' folder. Try 'Kernel > Restart\n",
    "  and Run All' on the '.ipynb' file to make sure it works. Glance through the '.html' file.\n",
    "- Turn in partial solutions to Canvas before the deadline. e.g. Turn in part 1,\n",
    "  then parts 1 and 2, then your whole solution. That way we can award partial credit\n",
    "  even if you miss the deadline. We will grade your last submission before the deadline."
   ]
  },
  {
   "cell_type": "code",
   "execution_count": 1,
   "id": "f6a87448",
   "metadata": {},
   "outputs": [],
   "source": [
    "import numpy as np\n",
    "import pandas as pd\n",
    "import matplotlib.pyplot as plt\n",
    "from sklearn import svm, linear_model\n",
    "from sklearn.tree import DecisionTreeClassifier\n",
    "from sklearn import tree\n",
    "import math"
   ]
  },
  {
   "cell_type": "markdown",
   "id": "f90946b9",
   "metadata": {},
   "source": [
    "# 1. Logistic regression"
   ]
  },
  {
   "cell_type": "markdown",
   "id": "0c5d8fa5",
   "metadata": {},
   "source": [
    "# 1a. Make a logistic regression model\n",
    "relating the probability an iris has Species='virginica' to its 'Petal.Length'\n",
    "and classifying irises as 'virginica' or not 'virginica' (i.e. 'versicolor').\n",
    "- Read [http://www.stat.wisc.edu/~jgillett/451/data/iris.csv](http://www.stat.wisc.edu/~jgillett/451/data/iris.csv) into a DataFrame.\n",
    "- Make a second data frame that excludes the 'setosa' rows (leaving the 'virginica' and 'versicolor' rows) and includes only the Petal.Length and Species columns.\n",
    "- Train the model using $X=$ petal length and $y=$ whether the Species is 'virginica'.\n",
    "  (I used \"y = (df['Species'] == 'virginica').to_numpy().astype(int)\",\n",
    "  which sets y to zeros and ones.)\n",
    "- Report its accuracy on the training data.\n",
    "- Report the estimated P(Species=virginica | Petal.Length=5).\n",
    "- Report the predicited Species for Petal.Length=5.\n",
    "- Make a plot showing:\n",
    "  - the data points\n",
    "  - the estimated logistic curve\n",
    "  - and what I have called the \"sample proportion\" of y == 1 at each unique Petal.Length value\n",
    "  - a legend and title and other labels necessary to make the plot easy to read"
   ]
  },
  {
   "cell_type": "code",
   "execution_count": 2,
   "id": "248a1006",
   "metadata": {},
   "outputs": [
    {
     "name": "stdout",
     "output_type": "stream",
     "text": [
      "intercept = [-43.55550129], slope = [8.95564464], training score = 0.93\n",
      "estimated P(Species = virginica | Petal.Length = 5) = [0.7725422]\n",
      "predicted species (0 = versicolor, 1 = virginica) for petal length of 5 = [1]\n"
     ]
    },
    {
     "data": {
      "image/png": "[encoded data removed]",
      "text/plain": [
       "<Figure size 432x288 with 1 Axes>"
      ]
     },
     "metadata": {
      "needs_background": "light"
     },
     "output_type": "display_data"
    }
   ],
   "source": [
    "\n",
    "df = pd.read_csv('iris.csv')\n",
    "df2 = df[['Petal.Length', 'Species']]\n",
    "df2 = df2[df2.Species != 'setosa']\n",
    "model = linear_model.LogisticRegression(C=1000)\n",
    "X = df2[['Petal.Length']].to_numpy()\n",
    "y = (df2['Species'] == 'virginica').to_numpy().astype(int)\n",
    "model.fit(X , y)\n",
    "b = model.intercept_\n",
    "w = model.coef_[0]\n",
    "print(f'intercept = {b}, slope = {w}, training score = {model.score(X, y)}')\n",
    "print(f'estimated P(Species = virginica | Petal.Length = 5) = {model.predict_proba([[5]])[:, 1]}')\n",
    "print(f'predicted species (0 = versicolor, 1 = virginica) for petal length of 5 = {model.predict([[5]])}')\n",
    "\n",
    "low = 3\n",
    "high = 7\n",
    "plt.plot(X, y, '.', color='black', label='data')\n",
    "plt.xlim(low, high)\n",
    "margin = 0.1\n",
    "plt.ylim(0 - margin, 1 + margin)\n",
    "\n",
    "plt.title('Proportion of Petal Lengths in relation to species')\n",
    "plt.xlabel('Petal Length')\n",
    "plt.ylabel('Proportion')\n",
    "\n",
    "xplot = np.linspace(start=low, stop=high)\n",
    "yplot = 1 / (1 + np.exp(-(w * xplot + b)))\n",
    "plt.plot(xplot, yplot, label='logistic curve')\n",
    "\n",
    "x_values, x_counts = np.unique(X, return_counts=True)\n",
    "n_x_values = x_values.shape[0]\n",
    "success_proportion_per_x_value = np.zeros(n_x_values)\n",
    "for i in np.arange(n_x_values):\n",
    "    success_proportion_per_x_value[i] = np.sum(y[X[:, 0] == x_values[i]]) / x_counts[i]\n",
    "\n",
    "probs = model.predict_proba(X)[:, 1]\n",
    "plt.plot(x_values, success_proportion_per_x_value, '.', color='red',\n",
    "         label='sample proportions')\n",
    "\n",
    "plt.legend(loc='center right')\n",
    "plt.show(block=False)\n"
   ]
  },
  {
   "cell_type": "markdown",
   "id": "bac5562e",
   "metadata": {},
   "source": [
    "## 1b. Do some work with logistic regression by hand.\n",
    "Consider the logistic regression model, $P(y\n",
    "_i = 1) = \\frac{1}{1 + e^{-(\\mathbf{w x} + b)}}\\,.$\n",
    "\n",
    "Logistic regression is named after the log-odds of success, $\\ln\n",
    "  \\frac{p}{1 - p}$, where $p = P(y_i = 1)$. Show that this log-odds\n",
    "  equals $\\mathbf{w x} + b$. (That is, start with $\\ln\n",
    "  \\frac{p}{1 - p}$ and connect it in a series of equalities to $\\mathbf{w x} + b$.)\n",
    "  "
   ]
  },
  {
   "cell_type": "markdown",
   "id": "cbc0b73b",
   "metadata": {},
   "source": [
    "#### ... your Latex math in a Markdown cell here ...\n",
    "\n",
    "$\\begin{align*} % In this Latex context, \"&\" separates columns and\"\\\\\" ends a line.\n",
    "   \\ln \\frac{p}{1 - p} & = \\ln \\frac{\\frac{1}{1 + e^{-(\\mathbf{w x} +\n",
    "b)}}}{1 - \\frac{1}{1 + e^{-(\\mathbf{w x} + b)}}}\\\\\n",
    "    & = \\ln \\frac{\\frac{1}{1 + e^{-(\\mathbf{w x} + b)}}}{\\frac{1 +\n",
    "e^{-(\\mathbf{w x} + b)}}{1 + e^{-(\\mathbf{w x} + b)}} - \\frac{1}{1 +\n",
    "e^{-(\\mathbf{w x} + b)}}}\\\\\n",
    "    & = \\ln \\frac{\\frac{1}{1 + e^{-(\\mathbf{w x} +\n",
    "b)}}}{\\frac{e^{-(\\mathbf{w x} + b)}}{1 + e^{-(\\mathbf{w x} + b)}}}\\\\\n",
    "    & = \\ln \\frac{1}{e^{-(\\mathbf{w x} + b)}}\\\\\n",
    "    & = \\ln e^{\\mathbf{w x} + b}\\\\\n",
    "    & = \\mathbf{w x} + b\\\\\n",
    " \\end{align*}\n",
    "$"
   ]
  },
  {
   "cell_type": "markdown",
   "id": "b9e79535",
   "metadata": {},
   "source": [
    "### 1c. Do some more work with logistic regression by hand.\n",
    "\n",
    "I ran some Python/scikit-learn code to make the model pictured here: ![](toyLogistic.png)\n",
    "\n",
    "From the image and without the help of running code, match each code line from the top list with its output from the bottom list.\n",
    "\n",
    "1. `model.intercept_`\n",
    "2. `model.coef_`\n",
    "3. `model.predict(X)`\n",
    "4. `model.predict_proba(X)[:, 1]`\n",
    "\n",
    "A. `array([0, 0, 0, 1])`,\n",
    "B. `array([0.003, 0.5, 0.5, 0.997])`,\n",
    "C. `array([5.832])`,\n",
    "D. `array([0.])`"
   ]
  },
  {
   "cell_type": "markdown",
   "id": "30ecb7ea",
   "metadata": {},
   "source": [
    "1:D, 2:C, 3:B, 4:A"
   ]
  },
  {
   "cell_type": "markdown",
   "id": "006bb6a9",
   "metadata": {},
   "source": [
    "# 2. Decision tree"
   ]
  },
  {
   "cell_type": "markdown",
   "id": "a82c49b8",
   "metadata": {},
   "source": [
    "## 2a. Make a decision tree model on a Titanic data set.\n",
    "Read the data from [http://www.stat.wisc.edu/~jgillett/451/data/kaggle_titanic_train.csv](http://www.stat.wisc.edu/~jgillett/451/data/kaggle_titanic_train.csv).\n",
    "\n",
    "These data are described at [https://www.kaggle.com/competitions/titanic/data](https://www.kaggle.com/competitions/titanic/data) (click on the small down-arrow to see the \"Data Dictionary\"), which is where they are from.\n",
    "\n",
    "- Retain only the Survived, Pclass, Sex, and Age columns.\n",
    "- Display the  first seven rows (passengers).\n",
    "  Notice that the Age column includes NaN, indicating a missing value.\n",
    "- Drop rows with missing data via `df.dropna()`. Display your data frame's shape before\n",
    "  and after dropping rows. (It should be (714, 4) after dropping rows.)\n",
    "- Add a column called 'Female' that indicates whether a passenger is Female. You can make this column via `df.Sex == 'female'`. This gives bool values True and False, which are interpreted as 1 and 0 when used in an arithmetic context.\n",
    "- Train a decision tree with `max_depth=None` to decided whether a passenger\n",
    "  `Survived` from the other three columns. Report its accuracy (with 3 decimal places)\n",
    "  on training data along with the tree's depth (which is available in `clf.tree_.max_depth`).\n",
    "- Train another tree with `max_depth=2`. Report its accuracy (with 3 decimal places).\n",
    "  Use `tree.plot_tree()` to display it, including feature_names to make the tree easy to read."
   ]
  },
  {
   "cell_type": "code",
   "execution_count": 3,
   "id": "c8c242d6",
   "metadata": {},
   "outputs": [
    {
     "name": "stdout",
     "output_type": "stream",
     "text": [
      "   Survived  Pclass     Sex   Age\n",
      "0         0       3    male  22.0\n",
      "1         1       1  female  38.0\n",
      "2         1       3  female  26.0\n",
      "3         1       1  female  35.0\n",
      "4         0       3    male  35.0\n",
      "5         0       3    male   NaN\n",
      "6         0       1    male  54.0\n",
      " before dropNA = (891, 4)\n",
      " after dropNA = (714, 4)\n",
      " accuracy with max_depth of zero = 0.896\n",
      " tree depth = 15\n",
      " accuracy with max_depth of two = 0.791\n"
     ]
    },
    {
     "data": {
      "text/plain": [
       "[Text(0.5, 0.8333333333333334, 'Female <= 0.5\\nentropy = 0.974\\nsamples = 714\\nvalue = [424, 290]'),\n",
       " Text(0.25, 0.5, 'Pclass <= 1.5\\nentropy = 0.732\\nsamples = 453\\nvalue = [360, 93]'),\n",
       " Text(0.125, 0.16666666666666666, 'entropy = 0.969\\nsamples = 101\\nvalue = [61, 40]'),\n",
       " Text(0.375, 0.16666666666666666, 'entropy = 0.611\\nsamples = 352\\nvalue = [299, 53]'),\n",
       " Text(0.75, 0.5, 'Pclass <= 2.5\\nentropy = 0.804\\nsamples = 261\\nvalue = [64, 197]'),\n",
       " Text(0.625, 0.16666666666666666, 'entropy = 0.314\\nsamples = 159\\nvalue = [9, 150]'),\n",
       " Text(0.875, 0.16666666666666666, 'entropy = 0.996\\nsamples = 102\\nvalue = [55, 47]')]"
      ]
     },
     "execution_count": 3,
     "metadata": {},
     "output_type": "execute_result"
    },
    {
     "data": {
      "image/png": "[encoded data removed]",
      "text/plain": [
       "<Figure size 432x288 with 1 Axes>"
      ]
     },
     "metadata": {
      "needs_background": "light"
     },
     "output_type": "display_data"
    }
   ],
   "source": [
    "df = pd.read_csv('http://www.stat.wisc.edu/~jgillett/451/data/kaggle_titanic_train.csv')\n",
    "df = df[['Survived', 'Pclass', 'Sex', 'Age']]\n",
    "print(df[0:7])\n",
    "print(f' before dropNA = {df.shape}')\n",
    "df = df.dropna()\n",
    "print(f' after dropNA = {df.shape}')\n",
    "df['Female'] = df.Sex == 'female'\n",
    "\n",
    "#1st tree (max_depth = 0)\n",
    "feature_names = ['Pclass', 'Female', 'Age']\n",
    "X = df[feature_names].to_numpy()\n",
    "y = df['Survived'].to_numpy()\n",
    "clf = DecisionTreeClassifier(criterion = 'entropy', max_depth = None, random_state=0)\n",
    "clf.fit(X, y)\n",
    "print(f' accuracy with max_depth of zero = {round(clf.score(X, y), 3)}')\n",
    "print(f' tree depth = {clf.tree_.max_depth}')\n",
    "\n",
    "\n",
    "#2nd tree (max_depth = 2)\n",
    "clf = DecisionTreeClassifier(criterion = 'entropy', max_depth = 2, random_state=0)\n",
    "clf.fit(X, y)\n",
    "print(f' accuracy with max_depth of two = {round(clf.score(X, y), 3)}')\n",
    "tree.plot_tree(clf, feature_names=feature_names)"
   ]
  },
  {
   "cell_type": "markdown",
   "id": "92388657",
   "metadata": {},
   "source": [
    "## 2b. Which features are used in the (max_depth=2) decision-making? Answer in a markdown cell."
   ]
  },
  {
   "cell_type": "markdown",
   "id": "3989e841",
   "metadata": {},
   "source": [
    "Only the Female and Pclass features were utilized in the max_depth = 2 decision-making, which is evident in the tree visual created in the prior question. s"
   ]
  },
  {
   "cell_type": "markdown",
   "id": "aa128a8c",
   "metadata": {},
   "source": [
    " ## 2c. What proportion of females survived? What proportion of males survived?\n",
    " Answer in two sentences via print(), with each proportion rounded to three decimal places.\n",
    " \n",
    " Hint: There are many ways to do this. One quick way is to find the average of the `Female`\n",
    " column for each subset."
   ]
  },
  {
   "cell_type": "code",
   "execution_count": 4,
   "id": "700852b6",
   "metadata": {},
   "outputs": [
    {
     "name": "stdout",
     "output_type": "stream",
     "text": [
      "Proportion of female survivability = 0.755\n",
      "Proportion of male survivability = 0.205\n"
     ]
    }
   ],
   "source": [
    "f_survived = round(sum(df.Survived[df.Female == True]) / len(df[df.Female == True]), 3)\n",
    "print(f'Proportion of female survivability = {f_survived}')\n",
    "m_survived = round(sum(df.Survived[df.Female == False]) / len(df[df.Female == False]), 3)\n",
    "print(f'Proportion of male survivability = {m_survived}')"
   ]
  },
  {
   "cell_type": "markdown",
   "id": "8fee52c3",
   "metadata": {},
   "source": [
    "## 2d. Do some decision tree calculations by hand.\n",
    "Consider a decision tree node containing the following set of examples $S =\n",
    "\\{(\\mathbf{x}, y)\\}$ where $\\mathbf{x} = (x_1, x_2)$:\n",
    "\n",
    "((4, 9), 1)\n",
    "\n",
    "((2, 6), 0)\n",
    "\n",
    "((5, 7), 0)\n",
    "\n",
    "((3, 8), 1)\n",
    "\n",
    "Find the entropy of $S$."
   ]
  },
  {
   "cell_type": "code",
   "execution_count": 5,
   "id": "e7a6882f",
   "metadata": {},
   "outputs": [
    {
     "name": "stdout",
     "output_type": "stream",
     "text": [
      "entropy S = 1.0\n"
     ]
    }
   ],
   "source": [
    "# entropy = P(0)* -math.log(P(0), 2) + P(1)* -math.log(P(1),2)\n",
    "# = 1/2 * -math.log(1/2, 2) + 1/2 * math.log(1/2, 2)\n",
    "# = 1/2 * -(-1) + 1/2 * -(-1)\n",
    "# = 1\n",
    "\n",
    "print(f'entropy S = {1/2 * -math.log(1/2, 2) + 1/2 * - math.log(1/2 , 2)}')"
   ]
  },
  {
   "cell_type": "markdown",
   "id": "62982e16",
   "metadata": {},
   "source": [
    " ## 2e. Do some more decision tree calculations by hand.\n",
    "Find a (feature, threshold) pair that yields the best split for this node."
   ]
  },
  {
   "cell_type": "markdown",
   "id": "720043c5",
   "metadata": {},
   "source": [
    "Considering all 6 splits and calculate H(S−, S+) =|S−|/|S|H(S−) + |S+|/|S| H(S+),\n",
    "where H(S) = P(0) * -math.log(P(0), 2) + P(1) * -math.log(P(1),2), S- is for\n",
    "nodes less than the threshold and S+ is for nodes greater.\n",
    "\n",
    "Case 1: (x1, 2.5): <br>\n",
    "H(S-) = 0<br>\n",
    "H(S+) = 1/3 * -math.log(P(1/3), 2) + 2/3 * -math.log(P(2/3), 2)<br>\n",
    "H(S−, S+) = 3/4 * (1/3 * -math.log(P(1/3), 2) + 2/3 *-math.log(P(2/3), 2)) > 0<br>\n",
    "\n",
    "Case 2: (x1, 3.5):<br>\n",
    "H(S-) = 1/2 * -math.log(P(1/2), 2) + 1/2 * -math.log(P(1/2), 2)<br>\n",
    "H(S+) = 1/2 * -math.log(P(1/2), 2) + 1/2 * -math.log(P(1/2), 2)<br>\n",
    "H(S−, S+) = 2 * (2/4 * (1/2 * -math.log(P(1/2), 2) + 1/2 *-math.log(P(1/2), 2)) ) > 0<br>\n",
    "\n",
    "Case 3: (x1, 4.5):<br>\n",
    "H(S+) = 0<br>\n",
    "H(S-) = 1/3 * -math.log(P(1/3), 2) + 2/3 * -math.log(P(2/3), 2)<br>\n",
    "H(S−, S+) = 3/4 * (1/3 * -math.log(P(1/3), 2) + 2/3 *-math.log(P(2/3), 2)) > 0<br>\n",
    "\n",
    "Case 4: (x2, 6.5):<br>\n",
    "H(S-) = 0<br>\n",
    "H(S+) = 1/3 * -math.log(P(1/3), 2) + 2/3 * -math.log(P(2/3), 2)<br>\n",
    "H(S−, S+) = 3/4 * (1/3 * -math.log(P(1/3), 2) + 2/3 *-math.log(P(2/3), 2)) > 0<br>\n",
    "\n",
    "Case 5: (x2, 7.5):<br>\n",
    "H(S+) = 0<br>\n",
    "H(S-) = 0<br>\n",
    "H(S−, S+) = 0<br>\n",
    "\n",
    "Case 6: (x2, 8.5):<br>\n",
    "H(S+) = 0<br>\n",
    "H(S-) = 1/3 * -math.log(P(1/3), 2) + 2/3 * -math.log(P(2/3), 2)<br>\n",
    "H(S−, S+) = 3/4 * (1/3 * -math.log(P(1/3), 2) + 2/3 *-math.log(P(2/3), 2)) > 0<br>\n",
    "\n",
    "\n",
    "We minimize H(S−, S+) in case 5. Thus we split based off variable x2 with a threshold of 7.5."
   ]
  }
 ],
 "metadata": {
  "celltoolbar": "Tags",
  "kernelspec": {
   "display_name": "Python 3 (ipykernel)",
   "language": "python",
   "name": "python3"
  },
  "language_info": {
   "codemirror_mode": {
    "name": "ipython",
    "version": 3
   },
   "file_extension": ".py",
   "mimetype": "text/x-python",
   "name": "python",
   "nbconvert_exporter": "python",
   "pygments_lexer": "ipython3",
   "version": "3.9.12"
  }
 },
 "nbformat": 4,
 "nbformat_minor": 5
}
