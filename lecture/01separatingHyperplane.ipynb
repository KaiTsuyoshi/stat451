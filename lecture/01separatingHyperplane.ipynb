{
 "cells": [
  {
   "cell_type": "markdown",
   "metadata": {},
   "source": [
    "## See SVM's separating hyperplane for 1D, 2D, and 3D data."
   ]
  },
  {
   "cell_type": "code",
   "execution_count": null,
   "metadata": {},
   "outputs": [],
   "source": [
    "import numpy as np\n",
    "import matplotlib.pyplot as plt\n",
    "from sklearn import svm, datasets\n",
    "from io import StringIO\n",
    "import pandas as pd\n",
    "from mpl_toolkits.mplot3d import Axes3D"
   ]
  },
  {
   "cell_type": "markdown",
   "metadata": {},
   "source": [
    "### Start with 1D toy data:"
   ]
  },
  {
   "cell_type": "code",
   "execution_count": null,
   "metadata": {},
   "outputs": [],
   "source": [
    "data_string = \"\"\"\n",
    "x1,  y\n",
    " 0, -1\n",
    " 1, -1\n",
    " 3,  1\n",
    " 4,  1\n",
    "\"\"\"\n",
    "df = pd.read_csv(StringIO(data_string), sep='\\s*,\\s+', engine='python')\n",
    "X = np.array(df.iloc[:, 0:1])\n",
    "y = np.array(df.iloc[:, 1])\n",
    "print(f'X={X}, y={y}')"
   ]
  },
  {
   "cell_type": "code",
   "execution_count": null,
   "metadata": {},
   "outputs": [],
   "source": [
    "clf = svm.SVC(kernel=\"linear\", C=1000) # 'SVC' = 'support vector classification'\n",
    "clf.fit(X, y)\n",
    "print(f'clf.coef_={clf.coef_}')\n",
    "print(f'clf.intercept_={clf.intercept_}')"
   ]
  },
  {
   "cell_type": "code",
   "execution_count": null,
   "metadata": {},
   "outputs": [],
   "source": [
    "plt.scatter(x=X[:, 0], y=np.zeros_like(X[:, 0]), c=y, cmap=plt.cm.Paired)\n",
    "plt.xlim(-1, 5)\n",
    "plt.axhline(y=0, c='k')\n",
    "ax = plt.gca()\n",
    "ax.axes.get_yaxis().set_visible(False)\n",
    "# The boundary is given by wx + b = 0 => x = -b / w.\n",
    "boundary = -clf.intercept_[0] / clf.coef_[0]\n",
    "plt.axvline(x=boundary, c='k', label=r'decision boundary $\\mathbf{wx} + b = 0$')\n",
    "plt.axvline(x=boundary+1, c='g', linestyle=':', label=r'+1 support $\\mathbf{wx} + b =  1$')\n",
    "plt.axvline(x=boundary-1, c='r', linestyle=':', label=r'-1 support $\\mathbf{wx} + b = -1$')\n",
    "plt.legend()\n",
    "plt.show(block=False)"
   ]
  },
  {
   "cell_type": "code",
   "execution_count": null,
   "metadata": {},
   "outputs": [],
   "source": [
    "# make a few predictions\n",
    "X_new = np.array([0, 1.5, 2, 2.5, 4])\n",
    "X_new = np.reshape(a=X_new, newshape=(-1, 1)) # (-1, 1) = (calculate #rows, 1 column)\n",
    "clf.predict(X_new)"
   ]
  },
  {
   "cell_type": "markdown",
   "metadata": {},
   "source": [
    "### Now try 2D toy data:"
   ]
  },
  {
   "cell_type": "code",
   "execution_count": null,
   "metadata": {},
   "outputs": [],
   "source": [
    "data_string = \"\"\"\n",
    "x1, x2,  y\n",
    " 0,  0, -1\n",
    "-1,  1, -1\n",
    " 1, -1, -1\n",
    " 0,  1,  1\n",
    " 1,  1,  1\n",
    " 1,  0,  1\n",
    "\"\"\"\n",
    "df = pd.read_csv(StringIO(data_string), sep='\\s*,\\s+', engine='python')\n",
    "df # a data frame is like a spreadsheet"
   ]
  },
  {
   "cell_type": "code",
   "execution_count": null,
   "metadata": {},
   "outputs": [],
   "source": [
    "X = np.array(df.iloc[:, 0:2])\n",
    "y = np.array(df.iloc[:, 2])\n",
    "print(f'X={X}, y={y}')"
   ]
  },
  {
   "cell_type": "code",
   "execution_count": null,
   "metadata": {},
   "outputs": [],
   "source": [
    "clf = svm.SVC(kernel=\"linear\", C=1000)\n",
    "clf.fit(X, y)\n",
    "print(f'clf.coef_={clf.coef_}')\n",
    "print(f'clf.intercept_={clf.intercept_}')"
   ]
  },
  {
   "cell_type": "markdown",
   "metadata": {},
   "source": [
    "The decision boundary is defined by $\\mathbf{wx} + b = 0$, where $\\mathbf{w}$ is given by `clf.coef_[0]` and $b$ is given by `clf.intercept_`. In the 2D case, the boundary is\n",
    "\n",
    "`clf.coef_[0] * [x1, x2] + clf.intercept_ = 0` (I'm mixing math and code notation here); that is\n",
    "\n",
    "`clf.coef_[0][0] * x1 + clf.coef_[0][1] * x2 + clf.intercept_ = 0`\n",
    "\n",
    "$\\implies$\n",
    "\n",
    "`x2 = -(clf.coef_[0][0] * x1 + clf.intercept_) / clf.coef_[0][1]`.\n",
    "\n",
    "The constraints are $\\mathbf{wx} + b \\ge 1$ if $y = +1$ and $\\mathbf{wx} + b \\le -1$ if $y = -1$; use $=$ instead of $\\ge$ or $\\le$ to get the margin edges.\n",
    "\n",
    "With these formulas in mind, let's plot the data, decision boundary, and margin edges."
   ]
  },
  {
   "cell_type": "code",
   "execution_count": null,
   "metadata": {},
   "outputs": [],
   "source": [
    "# plot the data\n",
    "plt.scatter(x=X[:, 0], y=X[:, 1], c=y, cmap=plt.cm.Paired)\n",
    "plt.axis('square')\n",
    "plt.grid()\n",
    "plt.xlim(-4, 4)\n",
    "plt.ylim(-4, 4)\n",
    "\n",
    "# add the decision boundary and margin boundaries\n",
    "x1 = X[:, 0]\n",
    "x2 = -(clf.coef_[0][0] * x1 + clf.intercept_) / clf.coef_[0][1]\n",
    "plt.plot(x1, x2, label=r'decision boundary $\\mathbf{wx} + b = 0$')\n",
    "plt.plot(x1, x2 + 1 / clf.coef_[0][1], linestyle=':', label=r'+1 support $\\mathbf{wx} + b =  1$')\n",
    "plt.plot(x1, x2 - 1 / clf.coef_[0][1], linestyle=':', label=r'+1 support $\\mathbf{wx} + b = -1$')\n",
    "plt.plot([0, clf.coef_[0][0]], [0, clf.coef_[0][1]], label=r'normal') # arguments are x1, x2, y1, y2\n",
    "plt.axvline(x=0, c='k')\n",
    "plt.axhline(y=0, c='k')\n",
    "plt.legend()\n",
    "plt.show(block=False)"
   ]
  },
  {
   "cell_type": "markdown",
   "metadata": {},
   "source": [
    "### HW01 tip\n"
   ]
  },
  {
   "cell_type": "code",
   "execution_count": null,
   "metadata": {},
   "outputs": [],
   "source": [
    "# Or here's an alternative to the plt.scatter() call that makes using\n",
    "# specific colors easier.\n",
    "# First plot the y == -1 values red with x coordinate from the 0 column of X\n",
    "# and y coordinate from the 1 column of X.\n",
    "plt.plot(X[y == -1, 0], X[y == -1, 1], '.', color='red', label='y=-1 data')\n",
    "# Second plot the y == 1 values blue\n",
    "# and y coordinate from the 1 column of X.\n",
    "plt.plot(X[y ==  1, 0], X[y ==  1, 1], '.', color='blue', label='y=1 data')\n",
    "plt.axis('square')\n",
    "plt.grid()\n",
    "plt.xlim(-4, 4)\n",
    "plt.ylim(-4, 4)\n",
    "\n",
    "# add the decision boundary and margin boundaries\n",
    "x1 = X[:, 0]\n",
    "x2 = -(clf.coef_[0][0] * x1 + clf.intercept_) / clf.coef_[0][1]\n",
    "plt.plot(x1, x2, label=r'decision boundary $\\mathbf{wx} + b = 0$')\n",
    "plt.plot(x1, x2 + 1 / clf.coef_[0][1], linestyle=':', color='blue', label=r'+1 support $\\mathbf{wx} + b =  1$')\n",
    "plt.plot(x1, x2 - 1 / clf.coef_[0][1], linestyle=':', color='red', label=r'+1 support $\\mathbf{wx} + b = -1$')\n",
    "plt.plot([0, clf.coef_[0][0]], [0, clf.coef_[0][1]], label=r'normal') # arguments are x1, x2, y1, y2\n",
    "plt.axvline(x=0, c='k')\n",
    "plt.axhline(y=0, c='k')\n",
    "plt.legend()\n",
    "plt.show(block=False)"
   ]
  },
  {
   "cell_type": "code",
   "execution_count": null,
   "metadata": {},
   "outputs": [],
   "source": [
    "# make a couple of predictions\n",
    "print(f'clf.predict([[2, 2], [-2, -2]]={clf.predict([[2, 2], [-2, -2]])}')"
   ]
  },
  {
   "cell_type": "markdown",
   "metadata": {},
   "source": [
    "### Now let's try 3D data:\n",
    "(modified from [Support Vector Machines (SVM) clearly explained](https://towardsdatascience.com/support-vector-machines-svm-clearly-explained-a-python-tutorial-for-classification-problems-29c539f3ad8); data described at [Iris plants dataset](https://scikit-learn.org/stable/datasets/toy_dataset.html#iris-dataset), which says \"One class is linearly separable from the other 2; the latter are NOT linearly separable from each other,\" and [sklearn.datasets.load_iris¶](https://scikit-learn.org/stable/modules/generated/sklearn.datasets.load_iris.html))"
   ]
  },
  {
   "cell_type": "code",
   "execution_count": null,
   "metadata": {},
   "outputs": [],
   "source": [
    "iris = datasets.load_iris()\n",
    "# inspect the data:\n",
    "print(f'iris.feature_names={iris.feature_names}')\n",
    "print(f'first few rows:\\n{iris.data[0:3, :]}')\n",
    "print(f'first few target values: {iris.target[0:3]} (there are 0, 1, and 2 values)')"
   ]
  },
  {
   "cell_type": "code",
   "execution_count": null,
   "metadata": {},
   "outputs": [],
   "source": [
    "X = iris.data[:, :3]  # we only take the first three features (columns) for 3D visualization\n",
    "Y = iris.target\n",
    "# make it a binary classification problem by excluding the Y==2 examples\n",
    "X = X[np.logical_or(Y==0, Y==1)]\n",
    "Y = Y[np.logical_or(Y==0, Y==1)]\n",
    "print(f'X=\\n{X[0:3]}..., Y={Y[:3]}...')"
   ]
  },
  {
   "cell_type": "code",
   "execution_count": null,
   "metadata": {},
   "outputs": [],
   "source": [
    "model = svm.SVC(kernel='linear')\n",
    "clf = model.fit(X, Y)\n",
    "print(f'clf.coef_={clf.coef_}')\n",
    "print(f'clf.intercept_={clf.intercept_}')"
   ]
  },
  {
   "cell_type": "code",
   "execution_count": null,
   "metadata": {},
   "outputs": [],
   "source": [
    "# plot the data\n",
    "fig = plt.figure()\n",
    "ax  = fig.add_subplot(111, projection='3d')\n",
    "ax.plot3D(X[Y==0,0], X[Y==0,1], X[Y==0,2],'ob')\n",
    "ax.plot3D(X[Y==1,0], X[Y==1,1], X[Y==1,2],'sr')\n",
    "\n",
    "# The equation of the separating plane is given by all x so that\n",
    "# np.dot(svc.coef_[0], x) + b = 0. Solve for x_3, the third coordinate in\n",
    "# (x_1, x_2, x_3) or, in plotting notation, (x, y, z).)\n",
    "def z(x, y): # define a function that gives z from x and y based on the model\n",
    "    return((-clf.intercept_[0] - clf.coef_[0][0]*x - clf.coef_[0][1]*y) /\n",
    "           clf.coef_[0][2])\n",
    "linspace = np.linspace(start=-5, stop=5, num=30) # 30 values between -5 and 5\n",
    "x,y = np.meshgrid(linspace, linspace) # make 2D coordinate array from two 1D vectors\n",
    "\n",
    "# https://matplotlib.org/2.0.2/mpl_toolkits/mplot3d/tutorial.html#surface-plots\n",
    "ax.plot_surface(X=x, Y=y, Z=z(x,y))\n",
    "ax.view_init(30, 60)\n",
    "plt.show(block=False)"
   ]
  },
  {
   "cell_type": "code",
   "execution_count": null,
   "metadata": {},
   "outputs": [],
   "source": []
  }
 ],
 "metadata": {
  "kernelspec": {
   "display_name": "Python 3 (ipykernel)",
   "language": "python",
   "name": "python3"
  },
  "language_info": {
   "codemirror_mode": {
    "name": "ipython",
    "version": 3
   },
   "file_extension": ".py",
   "mimetype": "text/x-python",
   "name": "python",
   "nbconvert_exporter": "python",
   "pygments_lexer": "ipython3",
   "version": "3.9.7"
  }
 },
 "nbformat": 4,
 "nbformat_minor": 4
}
