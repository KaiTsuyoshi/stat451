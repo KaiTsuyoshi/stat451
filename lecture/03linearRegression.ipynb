{
 "cells": [
  {
   "cell_type": "code",
   "execution_count": null,
   "id": "b0cdf490",
   "metadata": {},
   "outputs": [],
   "source": [
    "import numpy as np\n",
    "import pandas as pd\n",
    "import matplotlib.pyplot as plt\n",
    "from sklearn import linear_model"
   ]
  },
  {
   "cell_type": "markdown",
   "id": "92573279",
   "metadata": {},
   "source": [
    "### Toy lecture example:"
   ]
  },
  {
   "cell_type": "code",
   "execution_count": null,
   "id": "d04f1a91",
   "metadata": {},
   "outputs": [],
   "source": [
    "X = np.array([[1], [2], [3]])\n",
    "y = np.array([1, 3, 2])\n",
    "model = linear_model.LinearRegression()\n",
    "model.fit(X, y)\n",
    "b = model.intercept_\n",
    "w = model.coef_[0]\n",
    "print(f'intercept={b}, slope={w}')"
   ]
  },
  {
   "cell_type": "markdown",
   "id": "85bbb425",
   "metadata": {},
   "source": [
    "### Simple linear regression (1D x) example:"
   ]
  },
  {
   "cell_type": "code",
   "execution_count": null,
   "id": "c7418a74",
   "metadata": {},
   "outputs": [],
   "source": [
    "df = pd.read_csv('http://www.stat.wisc.edu/~jgillett/451/data/mtcars.csv', index_col=0)\n",
    "# df"
   ]
  },
  {
   "cell_type": "code",
   "execution_count": null,
   "id": "1e8c7eba",
   "metadata": {},
   "outputs": [],
   "source": [
    "x = df['wt'].to_numpy() # we need vector for plotting\n",
    "X = x.copy()\n",
    "nrows = X.shape[0]\n",
    "X.shape = (nrows, 1) # we need array for model.fit()\n",
    "\n",
    "y = df['mpg'].to_numpy()\n",
    "\n",
    "model = linear_model.LinearRegression()\n",
    "model.fit(X, y)\n",
    "b = model.intercept_\n",
    "w = model.coef_[0]\n",
    "print(f'intercept={b}, slope={w}')\n",
    "y_hat = model.predict(X) # equivalent to y_hat = w * X[:, 0] + b\n",
    "plt.plot(x, y, '.', color='black', label='data')\n",
    "plt.title('mtcars')\n",
    "plt.xlabel('weight')\n",
    "plt.ylabel('mpg')\n",
    "plt.xlim(0, 6)\n",
    "plt.ylim(0, 40)\n",
    "# next line: \\ and { and } are doubled ('escaped') to get to Latex engine\n",
    "plt.plot(x, y_hat, color='black',\n",
    "         label=f'$\\\\hat{{y}}=${round(b, 2)} + ({round(w, 2)})$x$')\n",
    "# add vertical lines from (x, y) to (x, y_hat):\n",
    "plt.plot([x, x], [y, y_hat], # [x1, x2], [y1, y2]\n",
    "         color='black', linewidth=.5, label=None)\n",
    "\n",
    "plt.plot(x, y_hat, '.', color='red', label='fitted values')\n",
    "plt.legend()\n",
    "plt.show(block=False)\n",
    "# make a prediction at wt=3\n",
    "model.predict(np.array([[3]]))"
   ]
  },
  {
   "cell_type": "markdown",
   "id": "6eff0e3b",
   "metadata": {},
   "source": [
    "### Make a multiple regression model (2D x)\n",
    "of the form mileage = intercept + (slope wt)(weight) + (slope hp)(horsepower)"
   ]
  },
  {
   "cell_type": "code",
   "execution_count": null,
   "id": "1abf6d70",
   "metadata": {},
   "outputs": [],
   "source": [
    "X = df[['wt', 'hp']].to_numpy()\n",
    "y = df['mpg'].to_numpy()\n",
    "model.fit(X, y)\n",
    "print(f'mpg = {model.intercept_:.3} + ({model.coef_[0]:.3})wt + ({model.coef_[1]:.3})hp')\n",
    "y_hat = model.predict(X) # equivalent to y_hat =\n",
    "#  model.intercept_ + model.coef_[0] * X[:, 0] + model.coef_[1] * X[:, 1]\n",
    "print(f'R^2 is {model.score(X, y):.3}') # coefficient of determination\n",
    "# make a prediction at wt=3, hp=150\n",
    "model.predict(np.array([[3, 150]]))"
   ]
  },
  {
   "cell_type": "code",
   "execution_count": null,
   "id": "2ed774c2",
   "metadata": {},
   "outputs": [],
   "source": []
  }
 ],
 "metadata": {
  "kernelspec": {
   "display_name": "Python 3 (ipykernel)",
   "language": "python",
   "name": "python3"
  },
  "language_info": {
   "codemirror_mode": {
    "name": "ipython",
    "version": 3
   },
   "file_extension": ".py",
   "mimetype": "text/x-python",
   "name": "python",
   "nbconvert_exporter": "python",
   "pygments_lexer": "ipython3",
   "version": "3.9.7"
  }
 },
 "nbformat": 4,
 "nbformat_minor": 5
}
