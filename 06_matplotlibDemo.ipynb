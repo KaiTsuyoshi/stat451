{
 "cells": [
  {
   "cell_type": "code",
   "execution_count": null,
   "metadata": {},
   "outputs": [],
   "source": [
    "import matplotlib.pyplot as plt\n",
    "import pandas as pd\n",
    "import numpy as np\n",
    "\n",
    "# Basic plots\n",
    "x = np.linspace(start=0, stop=2*np.pi, num=100)\n",
    "y = np.sin(x)\n",
    "plt.plot(x, y)"
   ]
  },
  {
   "cell_type": "code",
   "execution_count": null,
   "metadata": {},
   "outputs": [],
   "source": [
    "plt.plot(x, y, 'o--r')"
   ]
  },
  {
   "cell_type": "code",
   "execution_count": null,
   "metadata": {},
   "outputs": [],
   "source": [
    "plt.plot(x, y, '.')"
   ]
  },
  {
   "cell_type": "code",
   "execution_count": null,
   "metadata": {},
   "outputs": [],
   "source": [
    "plt.boxplot(x, vert=True)"
   ]
  },
  {
   "cell_type": "code",
   "execution_count": null,
   "metadata": {},
   "outputs": [],
   "source": [
    "plt.hist(x=y, bins=8, edgecolor='white')"
   ]
  },
  {
   "cell_type": "code",
   "execution_count": null,
   "metadata": {},
   "outputs": [],
   "source": [
    "plt.hist(x=y, bins=np.linspace(start=-1, stop=1, num=5), \n",
    "         edgecolor='black', density=True)"
   ]
  },
  {
   "cell_type": "code",
   "execution_count": null,
   "metadata": {},
   "outputs": [],
   "source": [
    "plt.bar(x=range(3), height=(4, 7, 9),\n",
    "       tick_label=('Anna', 'Teresa', 'Margaret'))"
   ]
  },
  {
   "cell_type": "code",
   "execution_count": null,
   "metadata": {},
   "outputs": [],
   "source": [
    "# Title, axis labels, text annotations, and axis limits\n",
    "plt.plot(x, y, '-') # the following labels must be in current cell\n",
    "plt.title(r'The function $y = \\sin(x)$')\n",
    "plt.xlabel(r'$x$, with domain $[0, 2 \\pi]$')\n",
    "plt.ylabel(r'$y$, with range is $[-1, 1]$')\n",
    "plt.xlim(0, 7)\n",
    "plt.ylim(-2, 2)\n",
    "plt.text(x=np.pi/2, y=1.15, s=r'$\\left(\\frac{pi}{2}, 1\\right)$')\n",
    "plt.plot(np.pi/2, 1, 'og')\n",
    "# Write a figure to a file; must be in same cell that made figure\n",
    "plt.savefig('sinGraph.png', format='png')"
   ]
  },
  {
   "cell_type": "code",
   "execution_count": null,
   "metadata": {},
   "outputs": [],
   "source": [
    "# Legends\n",
    "plt.plot(x, y, 'og', label=r'$y = \\sin(x)$')\n",
    "plt.plot(x, -y, '--b', label=r'$y=-\\sin(x)$')\n",
    "plt.legend() # extracts line type and label from plt.plot() calls"
   ]
  },
  {
   "cell_type": "code",
   "execution_count": null,
   "metadata": {},
   "outputs": [],
   "source": [
    "# Multiple subplots within a plot\n",
    "fig = plt.figure() # create new blank figure\n",
    "fig.suptitle('gridspec: three plots using 1/4, 1/4, and 1/2 of figure')\n",
    "gs = fig.add_gridspec(nrows=4, ncols=1) # grid of plot axes\n",
    "x = np.linspace(start=0, stop=4*np.pi, num=100) # fake data\n",
    "xlim = (0, 13) # common x-axis limits\n",
    "\n",
    "ax1 = fig.add_subplot(gs[0, 0]) # first plot in top 1/4\n",
    "ax1.plot(x, -2 + x/3, label=r'$y = -2 + \\frac{x}{3}$')\n",
    "ax1.set(xlim=xlim, ylim=(-2, 2))\n",
    "ax1.xaxis.set_ticks([]) # suppress axis ticks & numbers\n",
    "ax1.legend()\n",
    "\n",
    "ax2 = fig.add_subplot(gs[1, 0]) # second plot in second 1/4\n",
    "ax2.plot(x, np.sin(x), label=r'$y = \\sin(x)$')\n",
    "ax2.set(xlim=xlim, ylim=(-2, 2))\n",
    "ax2.xaxis.set_ticks([]) # suppress axis ticks & numbers\n",
    "ax2.legend()\n",
    "\n",
    "ax3 = fig.add_subplot(gs[2:4, 0]) # third plot in bottom 1/2\n",
    "ax3.plot(x, (-2 + x/3) + np.sin(x),\n",
    "         label=r'$y=\\left(-2 + \\frac{x}{3}\\right) + \\sin(x)$')\n",
    "ax3.set(xlim=xlim, ylim=(-2, 6))\n",
    "ax3.legend()"
   ]
  },
  {
   "cell_type": "code",
   "execution_count": null,
   "metadata": {},
   "outputs": [],
   "source": [
    "# Plots of several variables from a pandas DataFrame\n",
    "df = pd.read_csv('http://www.stat.wisc.edu/~jgillett/451/data/DJIA.csv', index_col='Symbol')"
   ]
  },
  {
   "cell_type": "code",
   "execution_count": null,
   "metadata": {},
   "outputs": [],
   "source": [
    "df.groupby('Exchange')['AvgVol'].describe() # summarize the data before making some plots"
   ]
  },
  {
   "cell_type": "code",
   "execution_count": null,
   "metadata": {},
   "outputs": [],
   "source": [
    "df.groupby('Exchange')['AvgVol'].plot.line(xticks=[]) # silly\n",
    "plt.legend()"
   ]
  },
  {
   "cell_type": "code",
   "execution_count": null,
   "metadata": {},
   "outputs": [],
   "source": [
    "df.groupby('Exchange')['AvgVol'].plot.hist(alpha=.5)\n",
    "plt.legend()"
   ]
  },
  {
   "cell_type": "code",
   "execution_count": null,
   "metadata": {},
   "outputs": [],
   "source": [
    "df.groupby('Exchange')['AvgVol'].plot.density()\n",
    "plt.legend()"
   ]
  },
  {
   "cell_type": "code",
   "execution_count": null,
   "metadata": {},
   "outputs": [],
   "source": [
    "df.boxplot(column='AvgVol', by='Exchange')"
   ]
  },
  {
   "cell_type": "code",
   "execution_count": null,
   "metadata": {},
   "outputs": [],
   "source": [
    "df.hist(column='AvgVol', by='Exchange', bins=10, sharex=True,\n",
    "        edgecolor='white', layout=(2, 1))"
   ]
  },
  {
   "cell_type": "code",
   "execution_count": null,
   "metadata": {},
   "outputs": [],
   "source": [
    "df['State'].value_counts().plot.bar(rot=20) # try .barh()"
   ]
  },
  {
   "cell_type": "code",
   "execution_count": null,
   "metadata": {},
   "outputs": [],
   "source": [
    "color = (df['Exchange'] == 'NYSE') # hack (should be colors or integers)\n",
    "df.plot.scatter(x='MarketCap', y='AvgVol', c=color, cmap='Set1') # cmap means 'colormap'\n",
    "# Exercise: figure out how to get a nice legend with only the\n",
    "# colors of the points on the plot (red, orange, grey here)."
   ]
  },
  {
   "cell_type": "code",
   "execution_count": null,
   "metadata": {},
   "outputs": [],
   "source": [
    "pd.plotting.scatter_matrix(df[['Price', 'MarketCap', 'AvgVol']])"
   ]
  },
  {
   "cell_type": "code",
   "execution_count": null,
   "metadata": {},
   "outputs": [],
   "source": [
    "# Plot all the columns of a DataFrame with df.plot():\n",
    "import pandas_datareader.data as web # to read from finance.yahoo.com\n",
    "\n",
    "start = '2021-01-01'\n",
    "end = pd.Timestamp.today()\n",
    "df = web.DataReader(['AMZN', 'GOOG', '^DJI'], 'yahoo', start, end)['Adj Close']"
   ]
  },
  {
   "cell_type": "code",
   "execution_count": null,
   "metadata": {},
   "outputs": [],
   "source": [
    "ax = df.plot(secondary_y='^DJI', ylim=(0, 4000), style=['-', '-', ':'])\n",
    "ax.right_ax.set_ylim(0, 40000)"
   ]
  },
  {
   "cell_type": "code",
   "execution_count": null,
   "metadata": {},
   "outputs": [],
   "source": []
  }
 ],
 "metadata": {
  "kernelspec": {
   "display_name": "Python 3 (ipykernel)",
   "language": "python",
   "name": "python3"
  },
  "language_info": {
   "codemirror_mode": {
    "name": "ipython",
    "version": 3
   },
   "file_extension": ".py",
   "mimetype": "text/x-python",
   "name": "python",
   "nbconvert_exporter": "python",
   "pygments_lexer": "ipython3",
   "version": "3.9.7"
  }
 },
 "nbformat": 4,
 "nbformat_minor": 4
}
