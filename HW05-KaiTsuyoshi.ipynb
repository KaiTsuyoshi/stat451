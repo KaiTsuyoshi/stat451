{
 "cells": [
  {
   "cell_type": "markdown",
   "id": "f33c522c",
   "metadata": {},
   "source": [
    "# HW05: Practice with algorithm selection, grid search, cross validation, multiclass classification, one-class classification, imbalanced data, and model selection.\n",
    "\n",
    "Kai Tsuyoshi \n",
    "\n",
    "tsuyoshi@wisc.edu"
   ]
  },
  {
   "cell_type": "markdown",
   "id": "98d20274",
   "metadata": {},
   "source": [
    "##### Hello Students:\n",
    " Start by downloading HW05.ipynb from this folder. Then develop it into your solution.\n",
    "- Write code where you see \"... your code here ...\" below.\n",
    "  (You are welcome to use more than one cell.)\n",
    "- If you have questions, please ask them in class, office hours, or piazza. Our TA\n",
    "  and I are very happy to help with the programming (provided you start early\n",
    "  enough, and provided we are not helping so much that we undermine your learning).\n",
    "- When you are done, run these Notebook commands:\n",
    "  - Shift-L (once, so that line numbers are visible)\n",
    "  - Kernel > Restart and Run All (run all cells from scratch)\n",
    "  - Esc S (save)\n",
    "  - File > Download as > HTML\n",
    "- Turn in:\n",
    "  - HW03.ipynb to Canvas's HW03.ipynb assignment\n",
    "  - HW03.html to Canvas's HW03.html assignment\n",
    "  - As a check, download your files from Canvas to a new 'junk' folder. Try 'Kernel > Restart\n",
    "  and Run All' on the '.ipynb' file to make sure it works. Glance through the '.html' file.\n",
    "- Turn in partial solutions to Canvas before the deadline. e.g. Turn in part 1,\n",
    "  then parts 1 and 2, then your whole solution. That way we can award partial credit\n",
    "  even if you miss the deadline. We will grade your last submission before the deadline."
   ]
  },
  {
   "cell_type": "code",
   "execution_count": 18,
   "id": "c8fd2f22",
   "metadata": {},
   "outputs": [],
   "source": [
    "import numpy as np\n",
    "import pandas as pd\n",
    "import matplotlib.pyplot as plt\n",
    "\n",
    "from sklearn import mixture\n",
    "\n",
    "from sklearn.model_selection import train_test_split, GridSearchCV\n",
    "from sklearn import svm, linear_model, datasets\n",
    "from sklearn.tree import DecisionTreeClassifier\n",
    "from sklearn.neighbors import KNeighborsClassifier\n",
    "\n",
    "from sklearn.metrics import (confusion_matrix, precision_score, recall_score,\n",
    "                             accuracy_score, roc_auc_score, RocCurveDisplay)\n",
    "\n",
    "from sklearn.datasets import make_classification\n",
    "from sklearn.ensemble import GradientBoostingClassifier\n",
    "from imblearn.over_sampling import RandomOverSampler"
   ]
  },
  {
   "cell_type": "markdown",
   "id": "5b5a813d",
   "metadata": {},
   "source": [
    "## 1. Algorithm selection for multiclass classification by optical recognition of handwritten digits\n",
    "\n",
    "The [digits](https://scikit-learn.org/stable/modules/generated/sklearn.datasets.load_digits.html) dataset\n",
    "  has 1797 labeled images of hand-written digits.\n",
    "  - $X$ = `digits.data` has shape (1797, 64).\n",
    "    - Each image $\\mathbf{x}_i$ is represented as the $i$th row of 64 pixel values in the 2D\n",
    "      `digits.data` array that corresponds to an 8x8 photo of a handwritten digit.\n",
    "  - $y$ = `digits.target` has shape (1797,). Each $y_i$ is a number from 0 to 9 indicating\n",
    "    the handwritten digit that was photographed and stored in $\\mathbf{x}_i$.\n",
    "\n"
   ]
  },
  {
   "cell_type": "markdown",
   "id": "e018ed28",
   "metadata": {},
   "source": [
    "### 1(a) Load the digits dataset and split it into training, validation, and test sets as I did in the lecture example code [07ensemble.html](https://pages.stat.wisc.edu/~jgillett/451/burkov/07/07ensemble.html).\n",
    "This step does not need to display any output."
   ]
  },
  {
   "cell_type": "code",
   "execution_count": 19,
   "id": "e13337b7",
   "metadata": {},
   "outputs": [],
   "source": [
    "digits = datasets.load_digits()\n",
    "\n",
    "X = digits.data\n",
    "y = digits.target\n",
    "X_train, X_tmp, y_train, y_tmp = train_test_split(X, y, test_size=.2,\n",
    "                                                  random_state=0, stratify=y)\n",
    "X_valid, X_test, y_valid, y_test = train_test_split(X_tmp, y_tmp, test_size=.5,\n",
    "  random_state=0, stratify=y_tmp)\n"
   ]
  },
  {
   "cell_type": "markdown",
   "id": "b1610740",
   "metadata": {},
   "source": [
    "## 1(b) Use algorithm selection on training and validation data to choose a best classifier.\n",
    "Loop through these four classifiers and corresponding parameters, doing a grid search\n",
    "to find the best hyperparameter setting. Use only the training data for the grid search.\n",
    "- SVM:\n",
    "  - Try all values of `kernel` in 'linear', 'rbf'.\n",
    "  - Try all values of `C` in 0.01, 1, 100.\n",
    "- logistic regression:\n",
    "  - Use `max_iter=5000` to avoid a nonconvergence warning.\n",
    "  - Try all values of `C` in 0.01, 1, 100.\n",
    "- ID3 decision tree:\n",
    "  - Use `criterion='entropy` to get our ID3 tree.\n",
    "  - Try all values of `max_depth` in 1, 3, 5, 7.\n",
    "- kNN:\n",
    "  - (Use the default Euclidean distance).\n",
    "  - Try all values of `n_neighbors` in 1, 2, 3, 4.\n",
    "\n",
    "Hint:\n",
    "- Make a list of the four classifiers without setting any hyperparameters.\n",
    "- Make a list of four corresponding parameter dictionaries.\n",
    "- Loop through 0, 1, 2, 3:\n",
    "  - Run grid search on the $i$th classifier with the $i$th parameter dictionary on the\n",
    "    training data. (The grid search does its own cross-validation using the training data.)\n",
    "  - Use the $i$th classifier with its best hyperparameter settings (just `clf` from\n",
    "    `clf = GridSearchCV(...)`) to find the accuracy of the model on the validation data, i.e.\n",
    "    find `clf.score(X_valid, y_valid)`.\n",
    "- Keep track, as your loop progresses, of:\n",
    "  - the index $i$ of the best classifier (initialize it to `-1` or some other value)\n",
    "  - the best accuracy score on validation data (initialize it to `-np.Inf`)\n",
    "  - the best classifier with its hyperparameter settings, that is the best `clf` from\n",
    "    `clf = GridSearchCV(...)` (initialize it to `None` or some other value)\n",
    "\n",
    "I needed about 30 lines of code to do this. It took a minute to run."
   ]
  },
  {
   "cell_type": "code",
   "execution_count": 20,
   "id": "9d0208f4",
   "metadata": {},
   "outputs": [
    {
     "name": "stdout",
     "output_type": "stream",
     "text": [
      "i = 3\n",
      "accuracy = 0.9888888888888889\n",
      "the best classifier and hyperparameter settings = KNeighborsClassifier(metric='euclidean', n_neighbors=3)\n"
     ]
    }
   ],
   "source": [
    "classifier = [svm.SVC(),\n",
    "            linear_model.LogisticRegression(),\n",
    "            DecisionTreeClassifier(),\n",
    "            KNeighborsClassifier()]\n",
    "params = [{'kernel': ('linear', 'rbf'), 'C':[0.01, 1, 100]},\n",
    "         {'max_iter':[5000], 'C':[0.01, 1, 100]},\n",
    "         {'criterion':['entropy'], 'max_depth':[1,3,5,7]},\n",
    "         {'n_neighbors':[1,2,3,4],'metric':['euclidean']}]\n",
    "\n",
    "\n",
    "sup_i = -1\n",
    "sup_accuracy = -np.Inf\n",
    "sup_clf = None\n",
    "\n",
    "for i in range(4):\n",
    "    clf = GridSearchCV(classifier[i], params[i])\n",
    "    clf.fit(X_train, y_train)\n",
    "    valid_score = clf.score(X_valid, y_valid)\n",
    "    if valid_score >= sup_accuracy:\n",
    "        sup_accuracy = valid_score\n",
    "        sup_i = i\n",
    "        sup_clf = clf.best_estimator_\n",
    "print(f'i = {sup_i}')\n",
    "print(f'accuracy = {sup_accuracy}') \n",
    "print(f'the best classifier and hyperparameter settings = {sup_clf}')\n",
    "\n"
   ]
  },
  {
   "cell_type": "markdown",
   "id": "2bf500da",
   "metadata": {},
   "source": [
    "### 1(c) Use the test data to evaluate your best classifier and its hyperparameter settings from 1(b).\n",
    "- Report the result of calling `.score(X_test, y_test)` on your best classifier/hyperparameters.\n",
    "- Make a confusion matrix from the true `y_test` values and the corresponding $\\hat{y}$ values\n",
    "  predicted by your best classifier/hyperparameters on `X_test`.\n",
    "- For each of the wrong predictions (where `y_test` and your $\\hat{y}$ values disagree), show:\n",
    "  - The index $i$ in the test data of that example $\\mathbf{x}$\n",
    "  - The correct label $y_i$\n",
    "  - Your incorrect prediction $\\hat{y}_i$\n",
    "  - A plot of that image"
   ]
  },
  {
   "cell_type": "code",
   "execution_count": 21,
   "id": "c015c000",
   "metadata": {},
   "outputs": [
    {
     "name": "stdout",
     "output_type": "stream",
     "text": [
      "0.9833333333333333\n"
     ]
    },
    {
     "data": {
      "image/png": "[encoded data removed]",
      "text/plain": [
       "<Figure size 288x288 with 1 Axes>"
      ]
     },
     "metadata": {
      "needs_background": "light"
     },
     "output_type": "display_data"
    },
    {
     "data": {
      "image/png": "[encoded data removed]",
      "text/plain": [
       "<Figure size 288x288 with 1 Axes>"
      ]
     },
     "metadata": {
      "needs_background": "light"
     },
     "output_type": "display_data"
    },
    {
     "data": {
      "image/png": "[encoded data removed]",
      "text/plain": [
       "<Figure size 288x288 with 1 Axes>"
      ]
     },
     "metadata": {
      "needs_background": "light"
     },
     "output_type": "display_data"
    }
   ],
   "source": [
    "print(sup_clf.score(X_test, y_test))\n",
    "y_hat = sup_clf.predict(X_test)\n",
    "M = confusion_matrix(y_true=y_test, y_pred=y_hat)\n",
    "df = pd.DataFrame(data=M)\n",
    "incorrect_idx = list()\n",
    "incorrect_pred = list()\n",
    "correct = list()\n",
    "for i in range(len(y_test)):\n",
    "    if y_test[i] != y_hat[i]:\n",
    "        incorrect_idx.append(i)\n",
    "        correct.append(i)\n",
    "        incorrect_pred.append(i)\n",
    "        \n",
    "        \n",
    "for i in incorrect_idx:\n",
    "    plt.matshow(X_test[i].reshape(8, 8))"
   ]
  },
  {
   "cell_type": "markdown",
   "id": "442c16b1",
   "metadata": {},
   "source": [
    "## 2. One-class classification (outlier detection)"
   ]
  },
  {
   "cell_type": "markdown",
   "id": "54a8dbf8",
   "metadata": {},
   "source": [
    "### 2(a) There is an old gradebook of mine at [http://pages.stat.wisc.edu/~jgillett/451/data/midtermGrades.txt](http://pages.stat.wisc.edu/~jgillett/451/data/midtermGrades.txt).\n",
    "Use `pd.read_table()` to read it into a DataFrame.\n",
    "\n",
    "Hint: `pd.read_table()` has many parameters. Check its documentation to find three parameters to:\n",
    "- Read from the given URL\n",
    "- Use the separator '\\s+', which means 'one or more whitespace characters'\n",
    "- Skip the first 12 rows, as they are a note to students and not part of the gradebook"
   ]
  },
  {
   "cell_type": "code",
   "execution_count": 22,
   "id": "cbe6125e",
   "metadata": {},
   "outputs": [
    {
     "data": {
      "text/html": [
       "<div>\n",
       "<style scoped>\n",
       "    .dataframe tbody tr th:only-of-type {\n",
       "        vertical-align: middle;\n",
       "    }\n",
       "\n",
       "    .dataframe tbody tr th {\n",
       "        vertical-align: top;\n",
       "    }\n",
       "\n",
       "    .dataframe thead th {\n",
       "        text-align: right;\n",
       "    }\n",
       "</style>\n",
       "<table border=\"1\" class=\"dataframe\">\n",
       "  <thead>\n",
       "    <tr style=\"text-align: right;\">\n",
       "      <th></th>\n",
       "      <th>Exam1</th>\n",
       "      <th>Exam2</th>\n",
       "      <th>Q1</th>\n",
       "      <th>Q2</th>\n",
       "      <th>Q3</th>\n",
       "      <th>Q4</th>\n",
       "      <th>Q5</th>\n",
       "      <th>Q6</th>\n",
       "      <th>Q7</th>\n",
       "      <th>Q8</th>\n",
       "      <th>...</th>\n",
       "      <th>HW6</th>\n",
       "      <th>HW7</th>\n",
       "      <th>HW8</th>\n",
       "      <th>HW9</th>\n",
       "      <th>Percentage</th>\n",
       "      <th>Rank</th>\n",
       "      <th>Percentile</th>\n",
       "      <th>percentageGrade</th>\n",
       "      <th>percentileGrade</th>\n",
       "      <th>Grade</th>\n",
       "    </tr>\n",
       "  </thead>\n",
       "  <tbody>\n",
       "    <tr>\n",
       "      <th>0</th>\n",
       "      <td>121</td>\n",
       "      <td>120</td>\n",
       "      <td>4</td>\n",
       "      <td>4.0</td>\n",
       "      <td>4.0</td>\n",
       "      <td>4.00</td>\n",
       "      <td>4.0</td>\n",
       "      <td>4</td>\n",
       "      <td>4.0</td>\n",
       "      <td>4.00</td>\n",
       "      <td>...</td>\n",
       "      <td>4.0</td>\n",
       "      <td>3.5</td>\n",
       "      <td>3.0</td>\n",
       "      <td>4.0</td>\n",
       "      <td>97.13</td>\n",
       "      <td>391</td>\n",
       "      <td>99.7</td>\n",
       "      <td>A</td>\n",
       "      <td>A</td>\n",
       "      <td>A</td>\n",
       "    </tr>\n",
       "    <tr>\n",
       "      <th>1</th>\n",
       "      <td>119</td>\n",
       "      <td>116</td>\n",
       "      <td>4</td>\n",
       "      <td>4.0</td>\n",
       "      <td>4.0</td>\n",
       "      <td>4.00</td>\n",
       "      <td>4.0</td>\n",
       "      <td>4</td>\n",
       "      <td>4.0</td>\n",
       "      <td>4.00</td>\n",
       "      <td>...</td>\n",
       "      <td>4.0</td>\n",
       "      <td>3.5</td>\n",
       "      <td>4.0</td>\n",
       "      <td>3.5</td>\n",
       "      <td>95.22</td>\n",
       "      <td>390</td>\n",
       "      <td>99.5</td>\n",
       "      <td>A</td>\n",
       "      <td>A</td>\n",
       "      <td>A</td>\n",
       "    </tr>\n",
       "    <tr>\n",
       "      <th>2</th>\n",
       "      <td>125</td>\n",
       "      <td>109</td>\n",
       "      <td>4</td>\n",
       "      <td>4.0</td>\n",
       "      <td>4.0</td>\n",
       "      <td>4.00</td>\n",
       "      <td>4.0</td>\n",
       "      <td>4</td>\n",
       "      <td>4.0</td>\n",
       "      <td>4.00</td>\n",
       "      <td>...</td>\n",
       "      <td>3.0</td>\n",
       "      <td>4.0</td>\n",
       "      <td>4.0</td>\n",
       "      <td>2.5</td>\n",
       "      <td>94.90</td>\n",
       "      <td>389</td>\n",
       "      <td>99.2</td>\n",
       "      <td>A</td>\n",
       "      <td>A</td>\n",
       "      <td>A</td>\n",
       "    </tr>\n",
       "    <tr>\n",
       "      <th>3</th>\n",
       "      <td>117</td>\n",
       "      <td>115</td>\n",
       "      <td>4</td>\n",
       "      <td>4.0</td>\n",
       "      <td>4.0</td>\n",
       "      <td>4.00</td>\n",
       "      <td>4.0</td>\n",
       "      <td>4</td>\n",
       "      <td>4.0</td>\n",
       "      <td>4.00</td>\n",
       "      <td>...</td>\n",
       "      <td>4.0</td>\n",
       "      <td>4.0</td>\n",
       "      <td>3.5</td>\n",
       "      <td>4.0</td>\n",
       "      <td>94.27</td>\n",
       "      <td>387</td>\n",
       "      <td>98.7</td>\n",
       "      <td>A</td>\n",
       "      <td>A</td>\n",
       "      <td>A</td>\n",
       "    </tr>\n",
       "    <tr>\n",
       "      <th>4</th>\n",
       "      <td>110</td>\n",
       "      <td>122</td>\n",
       "      <td>4</td>\n",
       "      <td>4.0</td>\n",
       "      <td>4.0</td>\n",
       "      <td>4.00</td>\n",
       "      <td>4.0</td>\n",
       "      <td>4</td>\n",
       "      <td>4.0</td>\n",
       "      <td>4.00</td>\n",
       "      <td>...</td>\n",
       "      <td>4.0</td>\n",
       "      <td>4.0</td>\n",
       "      <td>4.0</td>\n",
       "      <td>4.0</td>\n",
       "      <td>94.27</td>\n",
       "      <td>387</td>\n",
       "      <td>98.7</td>\n",
       "      <td>A</td>\n",
       "      <td>A</td>\n",
       "      <td>A</td>\n",
       "    </tr>\n",
       "    <tr>\n",
       "      <th>...</th>\n",
       "      <td>...</td>\n",
       "      <td>...</td>\n",
       "      <td>...</td>\n",
       "      <td>...</td>\n",
       "      <td>...</td>\n",
       "      <td>...</td>\n",
       "      <td>...</td>\n",
       "      <td>...</td>\n",
       "      <td>...</td>\n",
       "      <td>...</td>\n",
       "      <td>...</td>\n",
       "      <td>...</td>\n",
       "      <td>...</td>\n",
       "      <td>...</td>\n",
       "      <td>...</td>\n",
       "      <td>...</td>\n",
       "      <td>...</td>\n",
       "      <td>...</td>\n",
       "      <td>...</td>\n",
       "      <td>...</td>\n",
       "      <td>...</td>\n",
       "    </tr>\n",
       "    <tr>\n",
       "      <th>386</th>\n",
       "      <td>94</td>\n",
       "      <td>0</td>\n",
       "      <td>4</td>\n",
       "      <td>4.0</td>\n",
       "      <td>4.0</td>\n",
       "      <td>3.64</td>\n",
       "      <td>2.4</td>\n",
       "      <td>4</td>\n",
       "      <td>4.0</td>\n",
       "      <td>4.00</td>\n",
       "      <td>...</td>\n",
       "      <td>4.0</td>\n",
       "      <td>3.0</td>\n",
       "      <td>2.5</td>\n",
       "      <td>3.0</td>\n",
       "      <td>49.09</td>\n",
       "      <td>5</td>\n",
       "      <td>1.0</td>\n",
       "      <td>F</td>\n",
       "      <td>F</td>\n",
       "      <td>F</td>\n",
       "    </tr>\n",
       "    <tr>\n",
       "      <th>387</th>\n",
       "      <td>0</td>\n",
       "      <td>84</td>\n",
       "      <td>4</td>\n",
       "      <td>4.0</td>\n",
       "      <td>3.7</td>\n",
       "      <td>4.00</td>\n",
       "      <td>0.0</td>\n",
       "      <td>0</td>\n",
       "      <td>4.0</td>\n",
       "      <td>4.00</td>\n",
       "      <td>...</td>\n",
       "      <td>4.0</td>\n",
       "      <td>4.0</td>\n",
       "      <td>4.0</td>\n",
       "      <td>3.0</td>\n",
       "      <td>45.91</td>\n",
       "      <td>4</td>\n",
       "      <td>0.8</td>\n",
       "      <td>F</td>\n",
       "      <td>F</td>\n",
       "      <td>F</td>\n",
       "    </tr>\n",
       "    <tr>\n",
       "      <th>388</th>\n",
       "      <td>0</td>\n",
       "      <td>82</td>\n",
       "      <td>4</td>\n",
       "      <td>4.0</td>\n",
       "      <td>4.0</td>\n",
       "      <td>4.00</td>\n",
       "      <td>4.0</td>\n",
       "      <td>4</td>\n",
       "      <td>4.0</td>\n",
       "      <td>4.00</td>\n",
       "      <td>...</td>\n",
       "      <td>3.5</td>\n",
       "      <td>4.0</td>\n",
       "      <td>0.0</td>\n",
       "      <td>4.0</td>\n",
       "      <td>44.75</td>\n",
       "      <td>3</td>\n",
       "      <td>0.5</td>\n",
       "      <td>F</td>\n",
       "      <td>F</td>\n",
       "      <td>F</td>\n",
       "    </tr>\n",
       "    <tr>\n",
       "      <th>389</th>\n",
       "      <td>84</td>\n",
       "      <td>0</td>\n",
       "      <td>4</td>\n",
       "      <td>4.0</td>\n",
       "      <td>1.0</td>\n",
       "      <td>2.12</td>\n",
       "      <td>3.2</td>\n",
       "      <td>0</td>\n",
       "      <td>0.5</td>\n",
       "      <td>1.38</td>\n",
       "      <td>...</td>\n",
       "      <td>0.0</td>\n",
       "      <td>0.0</td>\n",
       "      <td>0.0</td>\n",
       "      <td>0.0</td>\n",
       "      <td>36.21</td>\n",
       "      <td>2</td>\n",
       "      <td>0.3</td>\n",
       "      <td>F</td>\n",
       "      <td>F</td>\n",
       "      <td>F</td>\n",
       "    </tr>\n",
       "    <tr>\n",
       "      <th>390</th>\n",
       "      <td>0</td>\n",
       "      <td>0</td>\n",
       "      <td>0</td>\n",
       "      <td>1.0</td>\n",
       "      <td>0.0</td>\n",
       "      <td>0.30</td>\n",
       "      <td>0.0</td>\n",
       "      <td>0</td>\n",
       "      <td>0.0</td>\n",
       "      <td>4.00</td>\n",
       "      <td>...</td>\n",
       "      <td>0.0</td>\n",
       "      <td>4.0</td>\n",
       "      <td>0.0</td>\n",
       "      <td>0.0</td>\n",
       "      <td>4.39</td>\n",
       "      <td>1</td>\n",
       "      <td>0.0</td>\n",
       "      <td>F</td>\n",
       "      <td>F</td>\n",
       "      <td>F</td>\n",
       "    </tr>\n",
       "  </tbody>\n",
       "</table>\n",
       "<p>391 rows × 28 columns</p>\n",
       "</div>"
      ],
      "text/plain": [
       "     Exam1  Exam2  Q1   Q2   Q3    Q4   Q5  Q6   Q7    Q8  ...  HW6  HW7  HW8  \\\n",
       "0      121    120   4  4.0  4.0  4.00  4.0   4  4.0  4.00  ...  4.0  3.5  3.0   \n",
       "1      119    116   4  4.0  4.0  4.00  4.0   4  4.0  4.00  ...  4.0  3.5  4.0   \n",
       "2      125    109   4  4.0  4.0  4.00  4.0   4  4.0  4.00  ...  3.0  4.0  4.0   \n",
       "3      117    115   4  4.0  4.0  4.00  4.0   4  4.0  4.00  ...  4.0  4.0  3.5   \n",
       "4      110    122   4  4.0  4.0  4.00  4.0   4  4.0  4.00  ...  4.0  4.0  4.0   \n",
       "..     ...    ...  ..  ...  ...   ...  ...  ..  ...   ...  ...  ...  ...  ...   \n",
       "386     94      0   4  4.0  4.0  3.64  2.4   4  4.0  4.00  ...  4.0  3.0  2.5   \n",
       "387      0     84   4  4.0  3.7  4.00  0.0   0  4.0  4.00  ...  4.0  4.0  4.0   \n",
       "388      0     82   4  4.0  4.0  4.00  4.0   4  4.0  4.00  ...  3.5  4.0  0.0   \n",
       "389     84      0   4  4.0  1.0  2.12  3.2   0  0.5  1.38  ...  0.0  0.0  0.0   \n",
       "390      0      0   0  1.0  0.0  0.30  0.0   0  0.0  4.00  ...  0.0  4.0  0.0   \n",
       "\n",
       "     HW9  Percentage  Rank  Percentile  percentageGrade  percentileGrade  \\\n",
       "0    4.0       97.13   391        99.7                A                A   \n",
       "1    3.5       95.22   390        99.5                A                A   \n",
       "2    2.5       94.90   389        99.2                A                A   \n",
       "3    4.0       94.27   387        98.7                A                A   \n",
       "4    4.0       94.27   387        98.7                A                A   \n",
       "..   ...         ...   ...         ...              ...              ...   \n",
       "386  3.0       49.09     5         1.0                F                F   \n",
       "387  3.0       45.91     4         0.8                F                F   \n",
       "388  4.0       44.75     3         0.5                F                F   \n",
       "389  0.0       36.21     2         0.3                F                F   \n",
       "390  0.0        4.39     1         0.0                F                F   \n",
       "\n",
       "     Grade  \n",
       "0        A  \n",
       "1        A  \n",
       "2        A  \n",
       "3        A  \n",
       "4        A  \n",
       "..     ...  \n",
       "386      F  \n",
       "387      F  \n",
       "388      F  \n",
       "389      F  \n",
       "390      F  \n",
       "\n",
       "[391 rows x 28 columns]"
      ]
     },
     "execution_count": 22,
     "metadata": {},
     "output_type": "execute_result"
    }
   ],
   "source": [
    "df = pd.read_table(filepath_or_buffer='https://pages.stat.wisc.edu/~jgillett/451/data/midtermGrades.txt',\n",
    "                   sep='\\s+', skiprows=12)\n",
    "df"
   ]
  },
  {
   "cell_type": "markdown",
   "id": "54e6f536",
   "metadata": {},
   "source": [
    "### 2(b) Use `clf = mixture.GaussianMixture(n_components=1)` to make a one-class Gaussian model to decide which $\\mathbf{x}=(\\text{Exam1}, \\text{Exam2})$ are outliers:\n",
    "\n",
    "- Set a matrix X to the first two columns, Exam1 and Exam.\n",
    "- These exams were worth 125 points each. Transform scores to percentages in $[0, 100]$.\n",
    "\n",
    "  Hint: I tried the MinMaxScaler() first, but it does the wrong thing if there aren't scores\n",
    "  of 0 and 125 in each column. So I just multiplied the whole matrix by 100 / 125.\n",
    "- Fit your classifier to X.\n",
    "  \n",
    "  Hint:\n",
    "  - The reference page for `mixture.GaussianMixture` includes a `fit(X, y=None)` method\n",
    "    with the comment that y is ignored (as this is an unsupervised learning algorithm--there\n",
    "    is no $y$) but present for API consistency. So we can fit with just X.\n",
    "  - I got a warning about \"KMeans ... memory leak\". You may ignore this\n",
    "    warning if you see it. I still got satisfactory results.\n",
    "- Print the center $\\mathbf{\\mu}$ and covariance matrix $\\mathbf{\\Sigma}$ from the two-variable\n",
    "  $N_2(\\mathbf{\\mu}, \\mathbf{\\Sigma})$ distribution you estimated."
   ]
  },
  {
   "cell_type": "code",
   "execution_count": 23,
   "id": "5072d5b4",
   "metadata": {},
   "outputs": [
    {
     "name": "stdout",
     "output_type": "stream",
     "text": [
      "mean is: [[82.81329923 71.01176471]]\n",
      "covariances are: [[[155.51123078  73.02961336]\n",
      "  [ 73.02961336 180.87014392]]]\n"
     ]
    }
   ],
   "source": [
    "\n",
    "X = df[['Exam1', 'Exam2']]\n",
    "X = X*(100/125)\n",
    "clf = mixture.GaussianMixture(n_components=1)\n",
    "clf.fit(X, y = None)\n",
    "print(f'mean is: {clf.means_}')\n",
    "print(f'covariances are: {clf.covariances_}')"
   ]
  },
  {
   "cell_type": "markdown",
   "id": "78955408",
   "metadata": {},
   "source": [
    "### 2(c) Here I have given you code to make a contour plot of the negative log likelihood $-\\ln f_{\\mathbf{\\mu}, \\mathbf{\\Sigma}}(\\mathbf{x})$ for $\\mathbf{X} \\sim N_2(\\mathbf{\\mu}, \\mathbf{\\Sigma})$, provided you have set `clf`.\n",
    "\n",
    "```\n",
    "# make contour plot of log-likelihood of samples from clf.score_samples()\n",
    "margin = 10\n",
    "x = np.linspace(0 - margin, 100 + margin)\n",
    "y = np.linspace(0 - margin, 100 + margin)\n",
    "grid_x, grid_y = np.meshgrid(x, y)\n",
    "two_column_grid_x_grid_y = np.array([grid_x.ravel(), grid_y.ravel()]).T\n",
    "negative_log_pdf_values = -clf.score_samples(two_column_grid_x_grid_y)\n",
    "grid_z = negative_log_pdf_values\n",
    "grid_z = grid_z.reshape(grid_x.shape)\n",
    "plt.contour(grid_x, grid_y, grid_z, levels=10) # X, Y, Z\n",
    "plt.title('(Exam1, Exam2) pairs')\n",
    "```\n",
    "\n",
    "Paste my code into your code cell below and add more code:\n",
    "- Add black $x$- and $y$- axes. Label them Exam1 and Exam2.\n",
    "- Plot the data points in blue.\n",
    "- Plot $\\mathbf{\\mu}=$ `clf.means_` as a big lime dot.\n",
    "- Overplot (i.e. plot again) in red the 8 outliers determined by a threshold consisting\n",
    "  of the 0.02 quantile of the pdf values $f_{\\mathbf{\\mu}, \\mathbf{\\Sigma}}(\\mathbf{x})$\n",
    "  for each $\\mathbf{x}$ in X.\n",
    "  \n",
    "  Hint: `clf.score_samples(X)` gives log likelihood, so `np.exp(clf.score_samples(X))`\n",
    "  gives the required $f_{\\mathbf{\\mu}, \\mathbf{\\Sigma}}(\\mathbf{x})$ values."
   ]
  },
  {
   "cell_type": "code",
   "execution_count": 24,
   "id": "32ad915c",
   "metadata": {},
   "outputs": [
    {
     "name": "stderr",
     "output_type": "stream",
     "text": [
      "/Users/kaitsuyoshi/opt/anaconda3/lib/python3.9/site-packages/sklearn/base.py:450: UserWarning: X does not have valid feature names, but GaussianMixture was fitted with feature names\n",
      "  warnings.warn(\n"
     ]
    },
    {
     "data": {
      "text/plain": [
       "Text(0, 0.5, 'Exam2')"
      ]
     },
     "execution_count": 24,
     "metadata": {},
     "output_type": "execute_result"
    },
    {
     "data": {
      "image/png": "[encoded data removed]",
      "text/plain": [
       "<Figure size 432x288 with 1 Axes>"
      ]
     },
     "metadata": {
      "needs_background": "light"
     },
     "output_type": "display_data"
    }
   ],
   "source": [
    "margin = 10\n",
    "x = np.linspace(0 - margin, 100 + margin)\n",
    "y = np.linspace(0 - margin, 100 + margin)\n",
    "grid_x, grid_y = np.meshgrid(x, y)\n",
    "two_column_grid_x_grid_y = np.array([grid_x.ravel(), grid_y.ravel()]).T\n",
    "negative_log_pdf_values = -clf.score_samples(two_column_grid_x_grid_y)\n",
    "grid_z = negative_log_pdf_values\n",
    "grid_z = grid_z.reshape(grid_x.shape)\n",
    "plt.contour(grid_x, grid_y, grid_z, levels=10) \n",
    "plt.plot(X['Exam1'], X['Exam2'], '.')\n",
    "f_values = np.exp(clf.score_samples(X))\n",
    "outliers = X[f_values< np.quantile(f_values, 0.02)]\n",
    "plt.plot(outliers['Exam1'], outliers['Exam2'], '.', color = 'red')\n",
    "plt.plot(clf.means_[0][0], clf.means_[0][1], marker = '.', markersize = 20, color = 'limegreen')\n",
    "plt.title('(Exam1, Exam2) pairs')\n",
    "plt.axvline(x = 0, color = 'black', label = 'Exam2')\n",
    "plt.axhline(y = 0, color = 'black', label = 'Exam1')\n",
    "plt.xlabel('Exam1')\n",
    "plt.ylabel('Exam2')\n"
   ]
  },
  {
   "cell_type": "markdown",
   "id": "31574f59",
   "metadata": {},
   "source": [
    "### What characterizes 7 of these 8 outliers? Write your answer in a markdown cell."
   ]
  },
  {
   "cell_type": "markdown",
   "id": "46c87ff9",
   "metadata": {},
   "source": [
    "Seven of the eight are outliers because they either missed or scored a zero on exam 1 or 2, which can be seen directly on the x and y axes. "
   ]
  },
  {
   "cell_type": "markdown",
   "id": "56532eab",
   "metadata": {},
   "source": [
    "### 2(d) Write a little code to report whether, by the 0.02 quantile criterion, $\\mathbf{x}=$ (Exam1=50, Exam2=100) is an outlier.\n",
    "\n",
    "Hint: Compare $f_{\\mathbf{\\mu}, \\mathbf{\\Sigma}}(\\mathbf{x})$ to your threshold"
   ]
  },
  {
   "cell_type": "code",
   "execution_count": 25,
   "id": "1aaf8764",
   "metadata": {},
   "outputs": [
    {
     "name": "stdout",
     "output_type": "stream",
     "text": [
      "An exam 1 score of 50 and exam 2 score of 100 is an outlier: True\n"
     ]
    },
    {
     "name": "stderr",
     "output_type": "stream",
     "text": [
      "/Users/kaitsuyoshi/opt/anaconda3/lib/python3.9/site-packages/sklearn/base.py:450: UserWarning: X does not have valid feature names, but GaussianMixture was fitted with feature names\n",
      "  warnings.warn(\n"
     ]
    }
   ],
   "source": [
    "f_value = np.exp(clf.score_samples([[50,100]]))\n",
    "outliers = f_value< np.quantile(f_values, 0.02)\n",
    "print(f'An exam 1 score of 50 and exam 2 score of 100 is an outlier: {outliers[0]}')"
   ]
  },
  {
   "cell_type": "markdown",
   "id": "f9c849af",
   "metadata": {},
   "source": [
    "## 3. Explore the fact that accuracy can be misleading for imbalanced data.\n",
    "Here I make a fake imbalanced data set by randomly sampling $y$ from a distribution with $P(y = 0) = 0.980$ and $P(y = 1) = 0.020$."
   ]
  },
  {
   "cell_type": "code",
   "execution_count": 26,
   "id": "1153fda6",
   "metadata": {},
   "outputs": [
    {
     "name": "stdout",
     "output_type": "stream",
     "text": [
      "np.bincount(y)=[973  27]; we expect about 980 zeros and 20 ones.\n",
      "np.mean(y)=0.027; we expect the proportion of ones to be about 0.020.\n"
     ]
    }
   ],
   "source": [
    "X, y = make_classification(n_samples=1000, n_features=4, n_classes=2, weights=[0.980, 0.020],\n",
    "                           n_clusters_per_class=1, flip_y=0.01, random_state=0)\n",
    "print(f'np.bincount(y)={np.bincount(y)}; we expect about 980 zeros and 20 ones.')\n",
    "print(f'np.mean(y)={np.mean(y)}; we expect the proportion of ones to be about 0.020.')"
   ]
  },
  {
   "cell_type": "markdown",
   "id": "66eca00d",
   "metadata": {},
   "source": [
    "Here I split the data into 50% training and 50% testing data."
   ]
  },
  {
   "cell_type": "code",
   "execution_count": 27,
   "id": "9f04c1e5",
   "metadata": {},
   "outputs": [
    {
     "name": "stdout",
     "output_type": "stream",
     "text": [
      "np.bincount(y_train)=[486  14]\n",
      "np.mean(y_train)=0.028.\n",
      "np.bincount(y_test)=[487  13].\n",
      "np.mean(y_test)=0.026.\n"
     ]
    }
   ],
   "source": [
    "X_train, X_test, y_train, y_test = train_test_split(X, y, test_size=.5,\n",
    "                                                    random_state=0, stratify=y)\n",
    "print(f'np.bincount(y_train)={np.bincount(y_train)}')\n",
    "print(f'np.mean(y_train)={np.mean(y_train)}.')\n",
    "print(f'np.bincount(y_test)={np.bincount(y_test)}.')\n",
    "print(f'np.mean(y_test)={np.mean(y_test)}.')"
   ]
  },
  {
   "cell_type": "markdown",
   "id": "d57e1786",
   "metadata": {},
   "source": [
    "### 3a. Train and assess a gradient boosting model.\n",
    "- Train on the training data.\n",
    "- Use 100 trees of maximum depth 1 and learning rate $\\alpha = 0.25$.\n",
    "- Use `random_state=0` (so that teacher, TAs, and students have a chance of\n",
    "  getting the same results).\n",
    "- Display the accuracy, precision, recall, and AUC on the test data. Use 3 decimal places.\n",
    "  Use a labeled print statement with 3 decimal places so the reader can easily find each metric.\n",
    "- Make an ROC curve from your classifier and the test data."
   ]
  },
  {
   "cell_type": "code",
   "execution_count": 28,
   "id": "e12227b7",
   "metadata": {},
   "outputs": [
    {
     "name": "stdout",
     "output_type": "stream",
     "text": [
      "Accuracy = 0.982\n",
      "Precision = 0.7\n",
      "Recall = 0.538\n",
      "AUC = 0.766\n"
     ]
    },
    {
     "data": {
      "image/png": "[encoded data removed]",
      "text/plain": [
       "<Figure size 432x288 with 1 Axes>"
      ]
     },
     "metadata": {
      "needs_background": "light"
     },
     "output_type": "display_data"
    }
   ],
   "source": [
    "clf = GradientBoostingClassifier(n_estimators = 100, learning_rate = 0.25,\n",
    "    max_depth = 1, random_state=0)\n",
    "clf.fit(X_train, y_train)\n",
    "pred = clf.predict(X_test)\n",
    "\n",
    "accuracy = accuracy_score(y_test, pred)\n",
    "precision = precision_score(y_test, pred)\n",
    "recall = recall_score(y_test, pred)\n",
    "roc_auc = roc_auc_score(y_test, pred)\n",
    "\n",
    "print(f'Accuracy = {accuracy:.3}')\n",
    "print(f'Precision = {precision:.3}')\n",
    "print(f'Recall = {recall:.3}')\n",
    "print(f'AUC = {roc_auc:.3}')\n",
    "\n",
    "RocCurveDisplay.from_estimator(clf, X_test, y_test)\n",
    "plt.plot([0, 1], [0, 1], ':k', label='merely guessing')\n",
    "plt.title('ROC curve of Gradient Boosting Classifier')\n",
    "plt.legend()\n",
    "plt.show(block=False)"
   ]
  },
  {
   "cell_type": "markdown",
   "id": "d5e67008",
   "metadata": {},
   "source": [
    "Note the high accuracy but lousy precision, recall, and AUC.\n",
    "\n",
    "Note that since the data have about 98% $y = 0$, we could get about 98% accuracy\n",
    "by just always predicting $\\hat{y} = 0$. High accuracy alone is not necessarily helpful."
   ]
  },
  {
   "cell_type": "markdown",
   "id": "16399469",
   "metadata": {},
   "source": [
    "### 3b. Now oversample the data to get a balanced data set.\n",
    "- Use the `RandomOverSampler(random_state=0)` to oversample and get a balanced data set.\n",
    "- Repeat my `train_test_split()` block from above.\n",
    "- Repeat your train/assess block from above."
   ]
  },
  {
   "cell_type": "code",
   "execution_count": 29,
   "id": "e14447b7",
   "metadata": {},
   "outputs": [
    {
     "name": "stdout",
     "output_type": "stream",
     "text": [
      "Accuracy = 0.956\n",
      "Precision = 0.976\n",
      "Recall = 0.934\n",
      "AUC = 0.956\n"
     ]
    },
    {
     "data": {
      "image/png": "[encoded data removed]",
      "text/plain": [
       "<Figure size 432x288 with 1 Axes>"
      ]
     },
     "metadata": {
      "needs_background": "light"
     },
     "output_type": "display_data"
    }
   ],
   "source": [
    "rs = RandomOverSampler()\n",
    "X_resampled, y_resampled = rs.fit_resample(X, y)\n",
    "X_train, X_test, y_train, y_test = train_test_split(X_resampled, y_resampled, test_size=.5,\n",
    "                                                    random_state=0, stratify=y_resampled)\n",
    "\n",
    "clf = GradientBoostingClassifier(n_estimators = 100, learning_rate = 0.25,\n",
    "    max_depth = 1, random_state=0)\n",
    "clf.fit(X_train, y_train)\n",
    "pred = clf.predict(X_test)\n",
    "\n",
    "accuracy = accuracy_score(y_test, pred)\n",
    "precision = precision_score(y_test, pred)\n",
    "recall = recall_score(y_test, pred)\n",
    "roc_auc = roc_auc_score(y_test, pred)\n",
    "\n",
    "print(f'Accuracy = {accuracy:.3}')\n",
    "print(f'Precision = {precision:.3}')\n",
    "print(f'Recall = {recall:.3}')\n",
    "print(f'AUC = {roc_auc:.3}')\n",
    "\n",
    "RocCurveDisplay.from_estimator(clf, X_test, y_test)\n",
    "plt.plot([0, 1], [0, 1], ':k', label='merely guessing')\n",
    "plt.title('ROC curve of Gradient Boosting Classifier')\n",
    "plt.legend()\n",
    "plt.show(block=False)"
   ]
  },
  {
   "cell_type": "markdown",
   "id": "1d218737",
   "metadata": {},
   "source": [
    "Note that we traded a little accuracy for much improved precision, recall, and AUC.\n",
    "\n",
    "If you do classification in your project and report accuracy, please\n",
    "also report the proportions of $y = 0$ and $y = 1$ in your test data so that\n",
    "we get insight into whether your model improves upon always guessing $\\hat{y} = 0$\n",
    "or always guessing $\\hat{y} = 1$."
   ]
  }
 ],
 "metadata": {
  "celltoolbar": "Tags",
  "kernelspec": {
   "display_name": "Python 3 (ipykernel)",
   "language": "python",
   "name": "python3"
  },
  "language_info": {
   "codemirror_mode": {
    "name": "ipython",
    "version": 3
   },
   "file_extension": ".py",
   "mimetype": "text/x-python",
   "name": "python",
   "nbconvert_exporter": "python",
   "pygments_lexer": "ipython3",
   "version": "3.9.12"
  }
 },
 "nbformat": 4,
 "nbformat_minor": 5
}
