{
 "cells": [
  {
   "cell_type": "code",
   "execution_count": null,
   "metadata": {},
   "outputs": [],
   "source": [
    "# ---------- Tuples ----------\n",
    "student = ('Badger', 'Bucky', 'junior', 123, ('FIN 310', 'MATH 223', 'CS 410'))\n",
    "student"
   ]
  },
  {
   "cell_type": "code",
   "execution_count": null,
   "metadata": {},
   "outputs": [],
   "source": [
    "type(student)"
   ]
  },
  {
   "cell_type": "code",
   "execution_count": null,
   "metadata": {},
   "outputs": [],
   "source": [
    "type(('apple',)) # tuple of length 1 requires trailiing comma"
   ]
  },
  {
   "cell_type": "code",
   "execution_count": null,
   "metadata": {},
   "outputs": [],
   "source": [
    "type(('apple'))  # string, not tuple"
   ]
  },
  {
   "cell_type": "code",
   "execution_count": null,
   "metadata": {},
   "outputs": [],
   "source": [
    "# student[2] = 'senior' # uncomment to see error: tuples are immutable"
   ]
  },
  {
   "cell_type": "code",
   "execution_count": null,
   "metadata": {},
   "outputs": [],
   "source": [
    "student = student[0:2] + ('senior',) + student[3:] # change variable, not tuple\n",
    "student"
   ]
  },
  {
   "cell_type": "code",
   "execution_count": null,
   "metadata": {},
   "outputs": [],
   "source": [
    "divmod(7, 3)"
   ]
  },
  {
   "cell_type": "code",
   "execution_count": null,
   "metadata": {},
   "outputs": [],
   "source": [
    "quotient, remainder = divmod(7, 3) # (an unimportant illustrative function)\n",
    "print(f'7 divided by 3 yields quotient {quotient} and remainder {remainder}.')"
   ]
  },
  {
   "cell_type": "code",
   "execution_count": null,
   "metadata": {},
   "outputs": [],
   "source": [
    "# ---------- Lists ----------\n",
    "stocks = ['GME', 'AMZN']\n",
    "list_of_lists = [[0, 0], [1, 1], [2, 5], [3, 9]]\n",
    "list_of_lists # oops, [2, 5] should be [2, 4]: let's fix it ..."
   ]
  },
  {
   "cell_type": "code",
   "execution_count": null,
   "metadata": {},
   "outputs": [],
   "source": [
    "list_of_lists[2][1] = 4\n",
    "list_of_lists"
   ]
  },
  {
   "cell_type": "code",
   "execution_count": null,
   "metadata": {},
   "outputs": [],
   "source": [
    "stocks.append('TWTR')\n",
    "stocks"
   ]
  },
  {
   "cell_type": "code",
   "execution_count": null,
   "metadata": {},
   "outputs": [],
   "source": [
    "stocks.append(['IBM', 'GOOG'])\n",
    "stocks"
   ]
  },
  {
   "cell_type": "code",
   "execution_count": null,
   "metadata": {},
   "outputs": [],
   "source": [
    "stocks = ['GME', 'AMZN']\n",
    "stocks.extend(['IBM', 'GOOG'])\n",
    "stocks"
   ]
  },
  {
   "cell_type": "code",
   "execution_count": null,
   "metadata": {},
   "outputs": [],
   "source": [
    "stocks.remove('IBM')\n",
    "stocks"
   ]
  },
  {
   "cell_type": "code",
   "execution_count": null,
   "metadata": {},
   "outputs": [],
   "source": [
    "stocks.sort()\n",
    "stocks"
   ]
  },
  {
   "cell_type": "code",
   "execution_count": null,
   "metadata": {},
   "outputs": [],
   "source": [
    "stocks = ['GME', 'AMZN']\n",
    "sorted_stocks = sorted(stocks)\n",
    "print(f'sorted_stocks:{sorted_stocks}')\n",
    "print(f'(original, unchanged) stocks:{stocks}')"
   ]
  },
  {
   "cell_type": "code",
   "execution_count": null,
   "metadata": {},
   "outputs": [],
   "source": [
    "squares = [1, 4, 9]\n",
    "sum(squares)"
   ]
  },
  {
   "cell_type": "code",
   "execution_count": null,
   "metadata": {},
   "outputs": [],
   "source": [
    "stock_popped_from_index_1 = stocks.pop(1)\n",
    "print(f'stock_popped_from_index_1={stock_popped_from_index_1}')\n",
    "print(f'stocks={stocks}')"
   ]
  },
  {
   "cell_type": "code",
   "execution_count": null,
   "metadata": {},
   "outputs": [],
   "source": [
    "sum_squares = 0 # here we use a loop to see what sum() does\n",
    "for value in squares: # 1st way: set value to each item in sequence\n",
    "    sum_squares = sum_squares + value\n",
    "    print(f' value={value}, sum_squares={sum_squares}') # indent code 4 spaces"
   ]
  },
  {
   "cell_type": "code",
   "execution_count": null,
   "metadata": {},
   "outputs": [],
   "source": [
    "print(f'x=line before loop:')\n",
    "for x in 'apple':  # 1st way: set x to each value\n",
    "    print(f'  x={x}') # indent code 4 spaces (indent output for debugging!)\n",
    "    \n",
    "print(f'done')"
   ]
  },
  {
   "cell_type": "code",
   "execution_count": null,
   "metadata": {},
   "outputs": [],
   "source": [
    "n = len(squares)\n",
    "sum_squares = 0\n",
    "for i in range(n): # 2nd way: set i to each index\n",
    "    sum_squares = sum_squares + squares[i]\n",
    "    print(f'  i={i}, squares[{i}]={squares[i]}, sum_squares={sum_squares}')"
   ]
  },
  {
   "cell_type": "code",
   "execution_count": null,
   "metadata": {},
   "outputs": [],
   "source": [
    "product = 1 # sums start at 0, products at 1\n",
    "n = len(squares)\n",
    "for i in range(n): # 2nd way: set i to each index; range(n) is 0, ..., n-1\n",
    "    product = product * squares[i]\n",
    "    print(f'  squares[{i}]={squares[i]}, product={product}')"
   ]
  },
  {
   "cell_type": "code",
   "execution_count": null,
   "metadata": {},
   "outputs": [],
   "source": [
    "stocks = ['GME', 'AMZN']\n",
    "# lower-case stock names:\n",
    "lower_stocks = []\n",
    "for stock in stocks:\n",
    "    lower_stocks.append(stock.lower())\n",
    "    print(f'stock={stock}, lower_stocks={lower_stocks}')\n",
    "\n",
    "print(lower_stocks)"
   ]
  },
  {
   "cell_type": "code",
   "execution_count": null,
   "metadata": {},
   "outputs": [],
   "source": [
    "# find portfolio = sum_i price_i * #shares_i:\n",
    "price = (10, 15, 12)\n",
    "n_shares = (1, 2, 5)\n",
    "portfolio = 0\n",
    "for i in range(len(price)):\n",
    "    portfolio += price[i] * n_shares[i] # x += y means \"x = x + y\"\n",
    "    print(f'  i={i}, price[{i}]={price[i]}, n_shares[{i}]={n_shares[i]}, portfolio={portfolio}')\n",
    "\n",
    "print(f'portfolio={portfolio}')"
   ]
  }
 ],
 "metadata": {
  "kernelspec": {
   "display_name": "Python 3 (ipykernel)",
   "language": "python",
   "name": "python3"
  },
  "language_info": {
   "codemirror_mode": {
    "name": "ipython",
    "version": 3
   },
   "file_extension": ".py",
   "mimetype": "text/x-python",
   "name": "python",
   "nbconvert_exporter": "python",
   "pygments_lexer": "ipython3",
   "version": "3.9.7"
  }
 },
 "nbformat": 4,
 "nbformat_minor": 4
}
