{
 "cells": [
  {
   "cell_type": "markdown",
   "id": "f2211a6f",
   "metadata": {},
   "source": [
    "### k-Nearest Neighbors (kNN)"
   ]
  },
  {
   "cell_type": "code",
   "execution_count": null,
   "id": "b582ab3c",
   "metadata": {},
   "outputs": [],
   "source": [
    "import numpy as np\n",
    "import pandas as pd\n",
    "import matplotlib.pyplot as plt\n",
    "from sklearn.neighbors import KNeighborsClassifier\n",
    "from sklearn.neighbors import KNeighborsRegressor\n",
    "from io import StringIO"
   ]
  },
  {
   "cell_type": "markdown",
   "id": "92d4eedc",
   "metadata": {},
   "source": [
    "### Make fake data"
   ]
  },
  {
   "cell_type": "code",
   "execution_count": null,
   "id": "eeae041e",
   "metadata": {},
   "outputs": [],
   "source": [
    "data_string = \"\"\"\n",
    "x1,   x2, y\n",
    " .1, -.1, 0\n",
    "-.3,  .2, 1\n",
    "-.4,   0, 1\n",
    "-.7,  .3, 0\n",
    " .1,  .7, 0\n",
    "-.7,  .9, 1\n",
    "-.8,  .8, 1\n",
    "\"\"\"\n",
    "df = pd.read_csv(StringIO(data_string), sep='\\\\s*,\\\\s*', engine='python')\n",
    "X = df[['x1', 'x2']].iloc[:, 0:2].to_numpy()\n",
    "y = df['y'].to_numpy()\n",
    "print(f'df=\\n{df},\\nX=\\n{X},\\ny={y}')"
   ]
  },
  {
   "cell_type": "markdown",
   "id": "a53246aa",
   "metadata": {},
   "source": [
    "### Plot data"
   ]
  },
  {
   "cell_type": "code",
   "execution_count": null,
   "id": "798c6002",
   "metadata": {},
   "outputs": [],
   "source": [
    "# draw points\n",
    "plt.plot(df.x1[df.y == 0], df.x2[df.y == 0], '^r', label='0') # red triangles\n",
    "plt.plot(df.x1[df.y == 1], df.x2[df.y == 1], 'sb', label='1') # blue squares\n",
    "plt.plot(0, 0, 'og', label='unknown') # green dot\n",
    "plt.text(x=0, y=.07, s='?', color='green', fontsize='x-large') # green question mark\n",
    "             \n",
    "# draw circles to contain 1, 3, and 5 points\n",
    "theta = np.linspace(start=0, stop=2*np.pi, num=100)\n",
    "radius = [.25, .5, 1]\n",
    "linestyle = ['solid', 'dashed', 'dashdot', 'dotted']\n",
    "circle_color = ['red', 'blue', 'red', 'blue']\n",
    "\n",
    "for i in range(len(radius)):\n",
    "    plt.plot(radius[i] * np.cos(theta), radius[i] * np.sin(theta),\n",
    "             linestyle=linestyle[i], color=circle_color[i])\n",
    "plt.axis('square')\n",
    "plt.legend(loc='lower right')\n",
    "plt.savefig(fname='kNN.png')\n",
    "plt.show(block=False)"
   ]
  },
  {
   "cell_type": "markdown",
   "id": "afedd0cc",
   "metadata": {},
   "source": [
    "### kNN classifier"
   ]
  },
  {
   "cell_type": "code",
   "execution_count": null,
   "id": "d1006292",
   "metadata": {},
   "outputs": [],
   "source": [
    "k_values = [1, 3, 5, 7]\n",
    "for k in k_values:\n",
    "    knn = KNeighborsClassifier(n_neighbors=k, metric='euclidean')\n",
    "    knn.fit(X, y)\n",
    "    print(f'For k={k}, predict green is {knn.predict([[0, 0]])[0]}.')"
   ]
  },
  {
   "cell_type": "markdown",
   "id": "adc6eabd",
   "metadata": {},
   "source": [
    "### kNN regressor"
   ]
  },
  {
   "cell_type": "code",
   "execution_count": null,
   "id": "f9a1bb69",
   "metadata": {},
   "outputs": [],
   "source": [
    "k_values = [1, 3, 5, 7]\n",
    "for k in k_values:\n",
    "    knn = KNeighborsRegressor(n_neighbors=k, metric='euclidean')\n",
    "    knn.fit(X, y)\n",
    "    print(f'For k={k}, predict green is {knn.predict([[0, 0]])[0]:.3}.')"
   ]
  },
  {
   "cell_type": "markdown",
   "id": "f2a15201",
   "metadata": {},
   "source": [
    "### Weighted kNN classifier\n",
    "Recall that with unweighted kNN classifier, above, we saw \"For k=3, predict green is 1.\""
   ]
  },
  {
   "cell_type": "code",
   "execution_count": null,
   "id": "5098f640",
   "metadata": {},
   "outputs": [],
   "source": [
    "k = 3\n",
    "knn = KNeighborsClassifier(n_neighbors=k, weights='distance', metric='euclidean')\n",
    "knn.fit(X, y)\n",
    "print(f'For k={k}, predict green is {knn.predict([[0, 0]])[0]}.')"
   ]
  },
  {
   "cell_type": "markdown",
   "id": "1d898b55",
   "metadata": {},
   "source": [
    "Inspect the distances:"
   ]
  },
  {
   "cell_type": "code",
   "execution_count": null,
   "id": "cf3a2171",
   "metadata": {},
   "outputs": [],
   "source": [
    "distances, indices = knn.kneighbors([[0, 0]]) # retrieve distances to and indices of kNN\n",
    "with np.printoptions(precision=1): # set precision for this block only\n",
    "    print(f'indices={indices}\\n' + f'y[indices]={y[indices]}\\n' +\n",
    "          f'distances={distances}\\n' + f'1/distances={1/distances}')"
   ]
  },
  {
   "cell_type": "markdown",
   "id": "7005040f",
   "metadata": {},
   "source": [
    "With unweighted 3-NN, we get 1 (blue). With weighted 3-NN, we get 0 (red) because the red's weight is greater than the sum of the two blue weights."
   ]
  },
  {
   "cell_type": "markdown",
   "id": "7005022f",
   "metadata": {},
   "source": [
    "### Here is a more natural k-NN regression example.\n"
   ]
  },
  {
   "cell_type": "code",
   "execution_count": null,
   "id": "f9a1bb70",
   "metadata": {},
   "outputs": [],
   "source": [
   "# Here is a more natural example of kNN regression.\n",
   "x = np.array([1, 2, 3, 5])\n",
   "y = np.array([1, 3, 2, 4])\n",
   "\n",
   "k_values = [1, 2, 3, 4]\n",
   "for k in k_values:\n",
   "    plt.plot(x, y, 'o')\n",
   "    plt.title(f'k={k}')\n",
   "    kNN = KNeighborsRegressor(n_neighbors=k, metric='euclidean')\n",
   "    X = x.reshape(-1, 1)\n",
   "    kNN.fit(X, y)\n",
   "    xplot = np.linspace(start=0, stop=6)\n",
   "    yplot = kNN.predict(xplot.reshape(-1, 1))\n",
   "    plt.plot(xplot, yplot)\n",
   "    plt.show(block=False)"
   ]
  }
 ],
 "metadata": {
  "kernelspec": {
   "display_name": "Python 3 (ipykernel)",
   "language": "python",
   "name": "python3"
  },
  "language_info": {
   "codemirror_mode": {
    "name": "ipython",
    "version": 3
   },
   "file_extension": ".py",
   "mimetype": "text/x-python",
   "name": "python",
   "nbconvert_exporter": "python",
   "pygments_lexer": "ipython3",
   "version": "3.9.7"
  }
 },
 "nbformat": 4,
 "nbformat_minor": 5
}
